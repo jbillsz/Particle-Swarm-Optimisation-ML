{
 "cells": [
  {
   "cell_type": "markdown",
   "id": "0b95008e",
   "metadata": {},
   "source": [
    "# Importing modules for the Project"
   ]
  },
  {
   "cell_type": "code",
   "execution_count": 435,
   "id": "45cb9464",
   "metadata": {},
   "outputs": [],
   "source": [
    "import numpy as np\n",
    "import matplotlib.pyplot as plt\n",
    "import seaborn as sns\n",
    "from sklearn.model_selection import train_test_split\n",
    "import pandas as pd"
   ]
  },
  {
   "cell_type": "markdown",
   "id": "1588221f",
   "metadata": {},
   "source": [
    "# Loading the training and testing data and getting the summary statistics"
   ]
  },
  {
   "cell_type": "code",
   "execution_count": 478,
   "id": "a651e0f0",
   "metadata": {},
   "outputs": [],
   "source": [
    "X_train = pd.read_excel(\"Data.xlsx\",dtype = float).round(3)"
   ]
  },
  {
   "cell_type": "code",
   "execution_count": 479,
   "id": "5f0ad3d5",
   "metadata": {},
   "outputs": [
    {
     "data": {
      "text/plain": [
       "11397.938"
      ]
     },
     "execution_count": 479,
     "metadata": {},
     "output_type": "execute_result"
    }
   ],
   "source": [
    "X_train.iloc[0,-1]"
   ]
  },
  {
   "cell_type": "code",
   "execution_count": 480,
   "id": "fb2be423",
   "metadata": {},
   "outputs": [],
   "source": [
    "X_test = pd.read_excel(\"Test_Data.xlsx\").round(3)"
   ]
  },
  {
   "cell_type": "code",
   "execution_count": 481,
   "id": "f85819e4",
   "metadata": {},
   "outputs": [
    {
     "data": {
      "text/html": [
       "<div>\n",
       "<style scoped>\n",
       "    .dataframe tbody tr th:only-of-type {\n",
       "        vertical-align: middle;\n",
       "    }\n",
       "\n",
       "    .dataframe tbody tr th {\n",
       "        vertical-align: top;\n",
       "    }\n",
       "\n",
       "    .dataframe thead th {\n",
       "        text-align: right;\n",
       "    }\n",
       "</style>\n",
       "<table border=\"1\" class=\"dataframe\">\n",
       "  <thead>\n",
       "    <tr style=\"text-align: right;\">\n",
       "      <th></th>\n",
       "      <th>DEPTH(ft)</th>\n",
       "      <th>ROP(ft/h)</th>\n",
       "      <th>GR</th>\n",
       "      <th>UUCS, psi</th>\n",
       "    </tr>\n",
       "  </thead>\n",
       "  <tbody>\n",
       "    <tr>\n",
       "      <th>count</th>\n",
       "      <td>2059.000000</td>\n",
       "      <td>2058.000000</td>\n",
       "      <td>2058.000000</td>\n",
       "      <td>2058.000000</td>\n",
       "    </tr>\n",
       "    <tr>\n",
       "      <th>mean</th>\n",
       "      <td>5946.231423</td>\n",
       "      <td>65.967567</td>\n",
       "      <td>37.940753</td>\n",
       "      <td>6187.362523</td>\n",
       "    </tr>\n",
       "    <tr>\n",
       "      <th>std</th>\n",
       "      <td>849.574132</td>\n",
       "      <td>17.610812</td>\n",
       "      <td>21.989722</td>\n",
       "      <td>3054.606491</td>\n",
       "    </tr>\n",
       "    <tr>\n",
       "      <th>min</th>\n",
       "      <td>0.000000</td>\n",
       "      <td>0.000000</td>\n",
       "      <td>0.000000</td>\n",
       "      <td>0.000000</td>\n",
       "    </tr>\n",
       "    <tr>\n",
       "      <th>25%</th>\n",
       "      <td>5209.500000</td>\n",
       "      <td>48.889000</td>\n",
       "      <td>17.628000</td>\n",
       "      <td>3877.845250</td>\n",
       "    </tr>\n",
       "    <tr>\n",
       "      <th>50%</th>\n",
       "      <td>5962.500000</td>\n",
       "      <td>69.976500</td>\n",
       "      <td>35.857500</td>\n",
       "      <td>5238.697500</td>\n",
       "    </tr>\n",
       "    <tr>\n",
       "      <th>75%</th>\n",
       "      <td>6670.750000</td>\n",
       "      <td>77.744750</td>\n",
       "      <td>56.015750</td>\n",
       "      <td>9004.235500</td>\n",
       "    </tr>\n",
       "    <tr>\n",
       "      <th>max</th>\n",
       "      <td>7425.000000</td>\n",
       "      <td>108.348000</td>\n",
       "      <td>107.137000</td>\n",
       "      <td>12640.002000</td>\n",
       "    </tr>\n",
       "  </tbody>\n",
       "</table>\n",
       "</div>"
      ],
      "text/plain": [
       "         DEPTH(ft)    ROP(ft/h)           GR     UUCS, psi\n",
       "count  2059.000000  2058.000000  2058.000000   2058.000000\n",
       "mean   5946.231423    65.967567    37.940753   6187.362523\n",
       "std     849.574132    17.610812    21.989722   3054.606491\n",
       "min       0.000000     0.000000     0.000000      0.000000\n",
       "25%    5209.500000    48.889000    17.628000   3877.845250\n",
       "50%    5962.500000    69.976500    35.857500   5238.697500\n",
       "75%    6670.750000    77.744750    56.015750   9004.235500\n",
       "max    7425.000000   108.348000   107.137000  12640.002000"
      ]
     },
     "execution_count": 481,
     "metadata": {},
     "output_type": "execute_result"
    }
   ],
   "source": [
    "X_train.describe()"
   ]
  },
  {
   "cell_type": "code",
   "execution_count": 482,
   "id": "b479de5f",
   "metadata": {},
   "outputs": [
    {
     "data": {
      "text/html": [
       "<div>\n",
       "<style scoped>\n",
       "    .dataframe tbody tr th:only-of-type {\n",
       "        vertical-align: middle;\n",
       "    }\n",
       "\n",
       "    .dataframe tbody tr th {\n",
       "        vertical-align: top;\n",
       "    }\n",
       "\n",
       "    .dataframe thead th {\n",
       "        text-align: right;\n",
       "    }\n",
       "</style>\n",
       "<table border=\"1\" class=\"dataframe\">\n",
       "  <thead>\n",
       "    <tr style=\"text-align: right;\">\n",
       "      <th></th>\n",
       "      <th>DEPTH(ft)</th>\n",
       "      <th>ROP(ft/h)</th>\n",
       "      <th>GR</th>\n",
       "      <th>UUCS, psi</th>\n",
       "    </tr>\n",
       "  </thead>\n",
       "  <tbody>\n",
       "    <tr>\n",
       "      <th>0</th>\n",
       "      <td>4507.0</td>\n",
       "      <td>35.003</td>\n",
       "      <td>23.500</td>\n",
       "      <td>11397.938</td>\n",
       "    </tr>\n",
       "    <tr>\n",
       "      <th>1</th>\n",
       "      <td>4507.5</td>\n",
       "      <td>35.188</td>\n",
       "      <td>23.521</td>\n",
       "      <td>11393.243</td>\n",
       "    </tr>\n",
       "    <tr>\n",
       "      <th>2</th>\n",
       "      <td>4509.0</td>\n",
       "      <td>35.611</td>\n",
       "      <td>24.030</td>\n",
       "      <td>11372.686</td>\n",
       "    </tr>\n",
       "    <tr>\n",
       "      <th>3</th>\n",
       "      <td>4509.5</td>\n",
       "      <td>35.712</td>\n",
       "      <td>24.151</td>\n",
       "      <td>11369.645</td>\n",
       "    </tr>\n",
       "    <tr>\n",
       "      <th>4</th>\n",
       "      <td>4510.0</td>\n",
       "      <td>35.792</td>\n",
       "      <td>24.259</td>\n",
       "      <td>11367.988</td>\n",
       "    </tr>\n",
       "  </tbody>\n",
       "</table>\n",
       "</div>"
      ],
      "text/plain": [
       "   DEPTH(ft)  ROP(ft/h)      GR  UUCS, psi\n",
       "0     4507.0     35.003  23.500  11397.938\n",
       "1     4507.5     35.188  23.521  11393.243\n",
       "2     4509.0     35.611  24.030  11372.686\n",
       "3     4509.5     35.712  24.151  11369.645\n",
       "4     4510.0     35.792  24.259  11367.988"
      ]
     },
     "execution_count": 482,
     "metadata": {},
     "output_type": "execute_result"
    }
   ],
   "source": [
    "X_train.head()"
   ]
  },
  {
   "cell_type": "code",
   "execution_count": 483,
   "id": "9d0a3396",
   "metadata": {},
   "outputs": [
    {
     "data": {
      "text/html": [
       "<div>\n",
       "<style scoped>\n",
       "    .dataframe tbody tr th:only-of-type {\n",
       "        vertical-align: middle;\n",
       "    }\n",
       "\n",
       "    .dataframe tbody tr th {\n",
       "        vertical-align: top;\n",
       "    }\n",
       "\n",
       "    .dataframe thead th {\n",
       "        text-align: right;\n",
       "    }\n",
       "</style>\n",
       "<table border=\"1\" class=\"dataframe\">\n",
       "  <thead>\n",
       "    <tr style=\"text-align: right;\">\n",
       "      <th></th>\n",
       "      <th>DEPTH(ft)</th>\n",
       "      <th>ROP(ft/h)</th>\n",
       "      <th>GR</th>\n",
       "      <th>UCS, psi</th>\n",
       "    </tr>\n",
       "  </thead>\n",
       "  <tbody>\n",
       "    <tr>\n",
       "      <th>count</th>\n",
       "      <td>870.000000</td>\n",
       "      <td>870.000000</td>\n",
       "      <td>870.000000</td>\n",
       "      <td>870.000000</td>\n",
       "    </tr>\n",
       "    <tr>\n",
       "      <th>mean</th>\n",
       "      <td>5946.576437</td>\n",
       "      <td>65.896199</td>\n",
       "      <td>37.264670</td>\n",
       "      <td>6271.102472</td>\n",
       "    </tr>\n",
       "    <tr>\n",
       "      <th>std</th>\n",
       "      <td>830.102080</td>\n",
       "      <td>16.983532</td>\n",
       "      <td>22.161739</td>\n",
       "      <td>3062.095747</td>\n",
       "    </tr>\n",
       "    <tr>\n",
       "      <th>min</th>\n",
       "      <td>4508.000000</td>\n",
       "      <td>35.245000</td>\n",
       "      <td>7.720000</td>\n",
       "      <td>1165.788000</td>\n",
       "    </tr>\n",
       "    <tr>\n",
       "      <th>25%</th>\n",
       "      <td>5272.750000</td>\n",
       "      <td>49.150000</td>\n",
       "      <td>16.883250</td>\n",
       "      <td>3872.439000</td>\n",
       "    </tr>\n",
       "    <tr>\n",
       "      <th>50%</th>\n",
       "      <td>5921.500000</td>\n",
       "      <td>69.263000</td>\n",
       "      <td>34.295000</td>\n",
       "      <td>5310.118000</td>\n",
       "    </tr>\n",
       "    <tr>\n",
       "      <th>75%</th>\n",
       "      <td>6618.250000</td>\n",
       "      <td>78.221500</td>\n",
       "      <td>55.840000</td>\n",
       "      <td>9053.518500</td>\n",
       "    </tr>\n",
       "    <tr>\n",
       "      <th>max</th>\n",
       "      <td>7424.000000</td>\n",
       "      <td>107.312000</td>\n",
       "      <td>101.454000</td>\n",
       "      <td>12640.002000</td>\n",
       "    </tr>\n",
       "  </tbody>\n",
       "</table>\n",
       "</div>"
      ],
      "text/plain": [
       "         DEPTH(ft)   ROP(ft/h)          GR      UCS, psi\n",
       "count   870.000000  870.000000  870.000000    870.000000\n",
       "mean   5946.576437   65.896199   37.264670   6271.102472\n",
       "std     830.102080   16.983532   22.161739   3062.095747\n",
       "min    4508.000000   35.245000    7.720000   1165.788000\n",
       "25%    5272.750000   49.150000   16.883250   3872.439000\n",
       "50%    5921.500000   69.263000   34.295000   5310.118000\n",
       "75%    6618.250000   78.221500   55.840000   9053.518500\n",
       "max    7424.000000  107.312000  101.454000  12640.002000"
      ]
     },
     "execution_count": 483,
     "metadata": {},
     "output_type": "execute_result"
    }
   ],
   "source": [
    "X_test.describe()"
   ]
  },
  {
   "cell_type": "code",
   "execution_count": 484,
   "id": "b0a9eb10",
   "metadata": {},
   "outputs": [
    {
     "data": {
      "text/plain": [
       "(2066, 4)"
      ]
     },
     "execution_count": 484,
     "metadata": {},
     "output_type": "execute_result"
    }
   ],
   "source": [
    "X_train.shape"
   ]
  },
  {
   "cell_type": "code",
   "execution_count": 485,
   "id": "3f310e68",
   "metadata": {},
   "outputs": [
    {
     "data": {
      "text/plain": [
       "(870, 4)"
      ]
     },
     "execution_count": 485,
     "metadata": {},
     "output_type": "execute_result"
    }
   ],
   "source": [
    "X_test.shape"
   ]
  },
  {
   "cell_type": "code",
   "execution_count": 486,
   "id": "80ed0379",
   "metadata": {},
   "outputs": [],
   "source": [
    "X_train = X_train.dropna()"
   ]
  },
  {
   "cell_type": "code",
   "execution_count": 487,
   "id": "b08e5ee1",
   "metadata": {},
   "outputs": [
    {
     "data": {
      "text/plain": [
       "DEPTH(ft)    2058\n",
       "ROP(ft/h)    2058\n",
       "GR           2058\n",
       "UUCS, psi    2058\n",
       "dtype: int64"
      ]
     },
     "execution_count": 487,
     "metadata": {},
     "output_type": "execute_result"
    }
   ],
   "source": [
    "X_train.isnull().count()"
   ]
  },
  {
   "cell_type": "code",
   "execution_count": 488,
   "id": "7114a2a0",
   "metadata": {},
   "outputs": [
    {
     "data": {
      "text/html": [
       "<div>\n",
       "<style scoped>\n",
       "    .dataframe tbody tr th:only-of-type {\n",
       "        vertical-align: middle;\n",
       "    }\n",
       "\n",
       "    .dataframe tbody tr th {\n",
       "        vertical-align: top;\n",
       "    }\n",
       "\n",
       "    .dataframe thead th {\n",
       "        text-align: right;\n",
       "    }\n",
       "</style>\n",
       "<table border=\"1\" class=\"dataframe\">\n",
       "  <thead>\n",
       "    <tr style=\"text-align: right;\">\n",
       "      <th></th>\n",
       "      <th>DEPTH(ft)</th>\n",
       "      <th>ROP(ft/h)</th>\n",
       "      <th>GR</th>\n",
       "      <th>UUCS, psi</th>\n",
       "    </tr>\n",
       "  </thead>\n",
       "  <tbody>\n",
       "    <tr>\n",
       "      <th>count</th>\n",
       "      <td>2058.000000</td>\n",
       "      <td>2058.000000</td>\n",
       "      <td>2058.000000</td>\n",
       "      <td>2058.000000</td>\n",
       "    </tr>\n",
       "    <tr>\n",
       "      <th>mean</th>\n",
       "      <td>5946.919825</td>\n",
       "      <td>65.967567</td>\n",
       "      <td>37.940753</td>\n",
       "      <td>6187.362523</td>\n",
       "    </tr>\n",
       "    <tr>\n",
       "      <th>std</th>\n",
       "      <td>849.206020</td>\n",
       "      <td>17.610812</td>\n",
       "      <td>21.989722</td>\n",
       "      <td>3054.606491</td>\n",
       "    </tr>\n",
       "    <tr>\n",
       "      <th>min</th>\n",
       "      <td>0.000000</td>\n",
       "      <td>0.000000</td>\n",
       "      <td>0.000000</td>\n",
       "      <td>0.000000</td>\n",
       "    </tr>\n",
       "    <tr>\n",
       "      <th>25%</th>\n",
       "      <td>5211.000000</td>\n",
       "      <td>48.889000</td>\n",
       "      <td>17.628000</td>\n",
       "      <td>3877.845250</td>\n",
       "    </tr>\n",
       "    <tr>\n",
       "      <th>50%</th>\n",
       "      <td>5964.000000</td>\n",
       "      <td>69.976500</td>\n",
       "      <td>35.857500</td>\n",
       "      <td>5238.697500</td>\n",
       "    </tr>\n",
       "    <tr>\n",
       "      <th>75%</th>\n",
       "      <td>6670.875000</td>\n",
       "      <td>77.744750</td>\n",
       "      <td>56.015750</td>\n",
       "      <td>9004.235500</td>\n",
       "    </tr>\n",
       "    <tr>\n",
       "      <th>max</th>\n",
       "      <td>7425.000000</td>\n",
       "      <td>108.348000</td>\n",
       "      <td>107.137000</td>\n",
       "      <td>12640.002000</td>\n",
       "    </tr>\n",
       "  </tbody>\n",
       "</table>\n",
       "</div>"
      ],
      "text/plain": [
       "         DEPTH(ft)    ROP(ft/h)           GR     UUCS, psi\n",
       "count  2058.000000  2058.000000  2058.000000   2058.000000\n",
       "mean   5946.919825    65.967567    37.940753   6187.362523\n",
       "std     849.206020    17.610812    21.989722   3054.606491\n",
       "min       0.000000     0.000000     0.000000      0.000000\n",
       "25%    5211.000000    48.889000    17.628000   3877.845250\n",
       "50%    5964.000000    69.976500    35.857500   5238.697500\n",
       "75%    6670.875000    77.744750    56.015750   9004.235500\n",
       "max    7425.000000   108.348000   107.137000  12640.002000"
      ]
     },
     "execution_count": 488,
     "metadata": {},
     "output_type": "execute_result"
    }
   ],
   "source": [
    "X_train.describe()"
   ]
  },
  {
   "cell_type": "code",
   "execution_count": 489,
   "id": "c03b4912",
   "metadata": {},
   "outputs": [
    {
     "data": {
      "text/html": [
       "<div>\n",
       "<style scoped>\n",
       "    .dataframe tbody tr th:only-of-type {\n",
       "        vertical-align: middle;\n",
       "    }\n",
       "\n",
       "    .dataframe tbody tr th {\n",
       "        vertical-align: top;\n",
       "    }\n",
       "\n",
       "    .dataframe thead th {\n",
       "        text-align: right;\n",
       "    }\n",
       "</style>\n",
       "<table border=\"1\" class=\"dataframe\">\n",
       "  <thead>\n",
       "    <tr style=\"text-align: right;\">\n",
       "      <th></th>\n",
       "      <th>DEPTH(ft)</th>\n",
       "      <th>ROP(ft/h)</th>\n",
       "      <th>GR</th>\n",
       "      <th>UUCS, psi</th>\n",
       "    </tr>\n",
       "  </thead>\n",
       "  <tbody>\n",
       "    <tr>\n",
       "      <th>DEPTH(ft)</th>\n",
       "      <td>1.000000</td>\n",
       "      <td>-0.403576</td>\n",
       "      <td>0.251658</td>\n",
       "      <td>0.008050</td>\n",
       "    </tr>\n",
       "    <tr>\n",
       "      <th>ROP(ft/h)</th>\n",
       "      <td>-0.403576</td>\n",
       "      <td>1.000000</td>\n",
       "      <td>0.030225</td>\n",
       "      <td>0.146338</td>\n",
       "    </tr>\n",
       "    <tr>\n",
       "      <th>GR</th>\n",
       "      <td>0.251658</td>\n",
       "      <td>0.030225</td>\n",
       "      <td>1.000000</td>\n",
       "      <td>-0.381721</td>\n",
       "    </tr>\n",
       "    <tr>\n",
       "      <th>UUCS, psi</th>\n",
       "      <td>0.008050</td>\n",
       "      <td>0.146338</td>\n",
       "      <td>-0.381721</td>\n",
       "      <td>1.000000</td>\n",
       "    </tr>\n",
       "  </tbody>\n",
       "</table>\n",
       "</div>"
      ],
      "text/plain": [
       "           DEPTH(ft)  ROP(ft/h)        GR  UUCS, psi\n",
       "DEPTH(ft)   1.000000  -0.403576  0.251658   0.008050\n",
       "ROP(ft/h)  -0.403576   1.000000  0.030225   0.146338\n",
       "GR          0.251658   0.030225  1.000000  -0.381721\n",
       "UUCS, psi   0.008050   0.146338 -0.381721   1.000000"
      ]
     },
     "execution_count": 489,
     "metadata": {},
     "output_type": "execute_result"
    }
   ],
   "source": [
    "X_train.corr()"
   ]
  },
  {
   "cell_type": "code",
   "execution_count": 490,
   "id": "8b259660",
   "metadata": {},
   "outputs": [
    {
     "data": {
      "text/plain": [
       "<Figure size 3600x3600 with 0 Axes>"
      ]
     },
     "metadata": {},
     "output_type": "display_data"
    },
    {
     "data": {
      "image/png": "[encoded data removed]",
      "text/plain": [
       "<Figure size 432x288 with 16 Axes>"
      ]
     },
     "metadata": {
      "needs_background": "light"
     },
     "output_type": "display_data"
    }
   ],
   "source": [
    "# this  is a scatter matrix of the features of the training data to see the visual relationships between features\n",
    "plt.figure(figsize=(50,50))\n",
    "figure = pd.plotting.scatter_matrix(X_train)\n",
    "plt.savefig(\"EDA_plot1.pdf\")\n",
    "plt.show()"
   ]
  },
  {
   "cell_type": "markdown",
   "id": "e1ea36da",
   "metadata": {},
   "source": [
    "### Various correlation types\n",
    "pearson, spearman and kendall.\n",
    "Helps check for collinearity"
   ]
  },
  {
   "cell_type": "code",
   "execution_count": 491,
   "id": "933b8977",
   "metadata": {},
   "outputs": [],
   "source": [
    "def correlation_heatmap(data,method):\n",
    "  # a function to print out all necessary graphs and correlations out\n",
    "  plt.figure(figsize = (5,5))\n",
    "  corr = data.corr(method)\n",
    "  corr_plot = sns.heatmap(corr,annot=True)\n",
    "  plt.savefig(f\"{method}.pdf\")\n",
    "  plt.show()\n",
    "  return corr[corr > 0.6]"
   ]
  },
  {
   "cell_type": "code",
   "execution_count": 492,
   "id": "1d8d5c65",
   "metadata": {
    "scrolled": true
   },
   "outputs": [
    {
     "data": {
      "image/png": "[encoded data removed]",
      "text/plain": [
       "<Figure size 360x360 with 2 Axes>"
      ]
     },
     "metadata": {
      "needs_background": "light"
     },
     "output_type": "display_data"
    },
    {
     "data": {
      "text/html": [
       "<div>\n",
       "<style scoped>\n",
       "    .dataframe tbody tr th:only-of-type {\n",
       "        vertical-align: middle;\n",
       "    }\n",
       "\n",
       "    .dataframe tbody tr th {\n",
       "        vertical-align: top;\n",
       "    }\n",
       "\n",
       "    .dataframe thead th {\n",
       "        text-align: right;\n",
       "    }\n",
       "</style>\n",
       "<table border=\"1\" class=\"dataframe\">\n",
       "  <thead>\n",
       "    <tr style=\"text-align: right;\">\n",
       "      <th></th>\n",
       "      <th>DEPTH(ft)</th>\n",
       "      <th>ROP(ft/h)</th>\n",
       "      <th>GR</th>\n",
       "      <th>UUCS, psi</th>\n",
       "    </tr>\n",
       "  </thead>\n",
       "  <tbody>\n",
       "    <tr>\n",
       "      <th>DEPTH(ft)</th>\n",
       "      <td>1.0</td>\n",
       "      <td>NaN</td>\n",
       "      <td>NaN</td>\n",
       "      <td>NaN</td>\n",
       "    </tr>\n",
       "    <tr>\n",
       "      <th>ROP(ft/h)</th>\n",
       "      <td>NaN</td>\n",
       "      <td>1.0</td>\n",
       "      <td>NaN</td>\n",
       "      <td>NaN</td>\n",
       "    </tr>\n",
       "    <tr>\n",
       "      <th>GR</th>\n",
       "      <td>NaN</td>\n",
       "      <td>NaN</td>\n",
       "      <td>1.0</td>\n",
       "      <td>NaN</td>\n",
       "    </tr>\n",
       "    <tr>\n",
       "      <th>UUCS, psi</th>\n",
       "      <td>NaN</td>\n",
       "      <td>NaN</td>\n",
       "      <td>NaN</td>\n",
       "      <td>1.0</td>\n",
       "    </tr>\n",
       "  </tbody>\n",
       "</table>\n",
       "</div>"
      ],
      "text/plain": [
       "           DEPTH(ft)  ROP(ft/h)   GR  UUCS, psi\n",
       "DEPTH(ft)        1.0        NaN  NaN        NaN\n",
       "ROP(ft/h)        NaN        1.0  NaN        NaN\n",
       "GR               NaN        NaN  1.0        NaN\n",
       "UUCS, psi        NaN        NaN  NaN        1.0"
      ]
     },
     "execution_count": 492,
     "metadata": {},
     "output_type": "execute_result"
    }
   ],
   "source": [
    "pearson = correlation_heatmap(X_train, 'pearson')\n",
    "pearson"
   ]
  },
  {
   "cell_type": "code",
   "execution_count": 493,
   "id": "dfa8e9a9",
   "metadata": {},
   "outputs": [
    {
     "data": {
      "image/png": "[encoded data removed]",
      "text/plain": [
       "<Figure size 360x360 with 2 Axes>"
      ]
     },
     "metadata": {
      "needs_background": "light"
     },
     "output_type": "display_data"
    },
    {
     "data": {
      "text/html": [
       "<div>\n",
       "<style scoped>\n",
       "    .dataframe tbody tr th:only-of-type {\n",
       "        vertical-align: middle;\n",
       "    }\n",
       "\n",
       "    .dataframe tbody tr th {\n",
       "        vertical-align: top;\n",
       "    }\n",
       "\n",
       "    .dataframe thead th {\n",
       "        text-align: right;\n",
       "    }\n",
       "</style>\n",
       "<table border=\"1\" class=\"dataframe\">\n",
       "  <thead>\n",
       "    <tr style=\"text-align: right;\">\n",
       "      <th></th>\n",
       "      <th>DEPTH(ft)</th>\n",
       "      <th>ROP(ft/h)</th>\n",
       "      <th>GR</th>\n",
       "      <th>UUCS, psi</th>\n",
       "    </tr>\n",
       "  </thead>\n",
       "  <tbody>\n",
       "    <tr>\n",
       "      <th>DEPTH(ft)</th>\n",
       "      <td>1.0</td>\n",
       "      <td>NaN</td>\n",
       "      <td>NaN</td>\n",
       "      <td>NaN</td>\n",
       "    </tr>\n",
       "    <tr>\n",
       "      <th>ROP(ft/h)</th>\n",
       "      <td>NaN</td>\n",
       "      <td>1.0</td>\n",
       "      <td>NaN</td>\n",
       "      <td>NaN</td>\n",
       "    </tr>\n",
       "    <tr>\n",
       "      <th>GR</th>\n",
       "      <td>NaN</td>\n",
       "      <td>NaN</td>\n",
       "      <td>1.0</td>\n",
       "      <td>NaN</td>\n",
       "    </tr>\n",
       "    <tr>\n",
       "      <th>UUCS, psi</th>\n",
       "      <td>NaN</td>\n",
       "      <td>NaN</td>\n",
       "      <td>NaN</td>\n",
       "      <td>1.0</td>\n",
       "    </tr>\n",
       "  </tbody>\n",
       "</table>\n",
       "</div>"
      ],
      "text/plain": [
       "           DEPTH(ft)  ROP(ft/h)   GR  UUCS, psi\n",
       "DEPTH(ft)        1.0        NaN  NaN        NaN\n",
       "ROP(ft/h)        NaN        1.0  NaN        NaN\n",
       "GR               NaN        NaN  1.0        NaN\n",
       "UUCS, psi        NaN        NaN  NaN        1.0"
      ]
     },
     "execution_count": 493,
     "metadata": {},
     "output_type": "execute_result"
    }
   ],
   "source": [
    "spearman = correlation_heatmap(X_train, 'spearman')\n",
    "spearman"
   ]
  },
  {
   "cell_type": "code",
   "execution_count": 494,
   "id": "96dd0637",
   "metadata": {},
   "outputs": [
    {
     "data": {
      "image/png": "[encoded data removed]",
      "text/plain": [
       "<Figure size 360x360 with 2 Axes>"
      ]
     },
     "metadata": {
      "needs_background": "light"
     },
     "output_type": "display_data"
    }
   ],
   "source": [
    "kendall = correlation_heatmap(X_train, 'kendall')"
   ]
  },
  {
   "cell_type": "code",
   "execution_count": 495,
   "id": "963ab7e1",
   "metadata": {},
   "outputs": [
    {
     "data": {
      "text/plain": [
       "Index(['DEPTH(ft)', 'ROP(ft/h)', 'GR', 'UUCS, psi'], dtype='object')"
      ]
     },
     "execution_count": 495,
     "metadata": {},
     "output_type": "execute_result"
    }
   ],
   "source": [
    "X_train.columns"
   ]
  },
  {
   "cell_type": "code",
   "execution_count": 496,
   "id": "c089bebd",
   "metadata": {},
   "outputs": [],
   "source": [
    "X =X_train.drop(['UUCS, psi'], axis=1)\n",
    "y = X_train['UUCS, psi']\n",
    "column_names = X.columns"
   ]
  },
  {
   "cell_type": "code",
   "execution_count": 497,
   "id": "36f56770",
   "metadata": {},
   "outputs": [
    {
     "name": "stdout",
     "output_type": "stream",
     "text": [
      " Column dropped : 0, VIF: 0.7674425256935459\n",
      " Column dropped : 1, VIF: 0.8185838599112049\n",
      " Column dropped : 2, VIF: 0.9159208240997889\n"
     ]
    }
   ],
   "source": [
    "# calculating VIF\n",
    "# There's a Scipy API for doing this but I didn'tknow so I just looked up the formula and built it in myself.\n",
    "from sklearn.linear_model import LinearRegression\n",
    "def VIF (X):\n",
    "  #the function is to take in X and iteratively drop that column and perform a regression and then use it to calculate VIF\n",
    "  #First it to get all colums of X and initialize some empty list\n",
    "  r2_score = []\n",
    "  VIF = []\n",
    "  columns = X.columns\n",
    "\n",
    "  # instantiate Linear regression\n",
    "  lr= LinearRegression()\n",
    "\n",
    "  #Now the next step is to drop the current variable using a loop and use it as the predictor and append r2 score\n",
    "  for i in columns:\n",
    "    #okay so this drops the particular column and then uses that column as a predictor\n",
    "    lr.fit(X.drop([i],axis=1),X.loc[:,i])\n",
    "\n",
    "    #the r2 score is appended to the list.\n",
    "    r2_score.append(lr.score(X.drop([i],axis=1),X.loc[:,i]))\n",
    "\n",
    "  #now I am going to append use the r2 score to try and append the VIF calculations to the list.\n",
    "  VIF = [1/1-x if x < 1 else float(\"inf\") for x in r2_score ]\n",
    "\n",
    "  for index, item in enumerate(VIF):\n",
    "    print(f\" Column dropped : {index}, VIF: {item}\")\n",
    "\n",
    "\n",
    "VIF(X)\n"
   ]
  },
  {
   "cell_type": "markdown",
   "id": "da9698af",
   "metadata": {},
   "source": [
    "# Preprocessing "
   ]
  },
  {
   "cell_type": "code",
   "execution_count": 498,
   "id": "91ad18dc",
   "metadata": {},
   "outputs": [
    {
     "name": "stdout",
     "output_type": "stream",
     "text": [
      "[0. 0. 0.] [7425.     108.348  107.137]\n"
     ]
    },
    {
     "data": {
      "text/plain": [
       "array([[0.60700337, 0.32306088, 0.21934532],\n",
       "       [0.60707071, 0.32476834, 0.21954133],\n",
       "       [0.60727273, 0.32867243, 0.22429226],\n",
       "       ...,\n",
       "       [0.9993266 , 0.66906634, 0.53604264],\n",
       "       [0.99959596, 0.67057998, 0.48960677],\n",
       "       [1.        , 0.67223207, 0.53249578]])"
      ]
     },
     "execution_count": 498,
     "metadata": {},
     "output_type": "execute_result"
    }
   ],
   "source": [
    "# Normalization\n",
    "from sklearn.preprocessing import MinMaxScaler\n",
    "scaler = MinMaxScaler()\n",
    "#Normalizing the data set before splitting\n",
    "X = scaler.fit_transform(X)\n",
    "\n",
    "Min_values = scaler.data_min_\n",
    "Max_values = scaler.data_max_\n",
    "print(Min_values, Max_values)\n",
    "X"
   ]
  },
  {
   "cell_type": "code",
   "execution_count": 499,
   "id": "e755bf41",
   "metadata": {},
   "outputs": [],
   "source": [
    "# Transforming the X_test with the min and max values of the train to keep distribution constant\n",
    "y_test = X_test['UCS, psi']\n",
    "X_test = X_test.drop(['UCS, psi'], axis=1)\n",
    "X_test = scaler.transform(X_test)"
   ]
  },
  {
   "cell_type": "code",
   "execution_count": 500,
   "id": "f1f2139d",
   "metadata": {},
   "outputs": [],
   "source": [
    "# Splitting X,y into training and validation data and later test on the test data.\n",
    "X_train, X_val,y_train, y_val = train_test_split(X,y.round(3), random_state=47, train_size = 0.9)"
   ]
  },
  {
   "cell_type": "code",
   "execution_count": 501,
   "id": "1ed5c67b",
   "metadata": {},
   "outputs": [],
   "source": [
    "# a function that returns the metrics of the data respectively as shown\n",
    "# MSE = Mean squared Error\n",
    "# MAE = Mean absolute error\n",
    "def training(model,X_train,y_train, X_test, y_test):\n",
    "  from sklearn.metrics import mean_squared_error, mean_absolute_error\n",
    "\n",
    "  train_score = model.score(X_train, y_train)\n",
    "  test_score = model.score(X_test, y_test)\n",
    "  train_pred = model.predict(X_train)\n",
    "  test_pred = model.predict(X_test)\n",
    "  train_mse = mean_squared_error(y_train, train_pred)\n",
    "  test_mse = mean_squared_error(y_test, test_pred)\n",
    "  train_mae = mean_absolute_error(y_train, train_pred)\n",
    "  test_mae = mean_absolute_error(y_test, test_pred)\n",
    "  return train_score, test_score, train_mse, test_mse, train_mae, test_mae"
   ]
  },
  {
   "cell_type": "code",
   "execution_count": 502,
   "id": "c94a7428",
   "metadata": {},
   "outputs": [],
   "source": [
    "#testing the data on base model\n",
    "from xgboost import XGBRegressor\n",
    "model= XGBRegressor()\n",
    "first_xgboost= training(model.fit(X_train, y_train), X_train, y_train, X_val, y_val)"
   ]
  },
  {
   "cell_type": "code",
   "execution_count": 503,
   "id": "663c5f56",
   "metadata": {},
   "outputs": [
    {
     "data": {
      "text/plain": [
       "(0.9996384466986613,\n",
       " 0.9942904875194063,\n",
       " 3347.2870717937913,\n",
       " 56678.51974645673,\n",
       " 37.85104221472936,\n",
       " 134.16050190116363)"
      ]
     },
     "execution_count": 503,
     "metadata": {},
     "output_type": "execute_result"
    }
   ],
   "source": [
    "# base model performed well but has high error mse and mae\n",
    "# looks like a simple function can learn but is not easily reproducible if computation power differs.\n",
    "# High MSE and MAE stemming from trying to predict about 8-9 significant figures in the original test data.\n",
    "first_xgboost"
   ]
  },
  {
   "cell_type": "code",
   "execution_count": 504,
   "id": "777c1744",
   "metadata": {},
   "outputs": [],
   "source": [
    "# a function that aims to return and compare the values of actual data vs predicted data\n",
    "def actual_vs_predicted_dataframe (y_true,y_pred):\n",
    "  \"\"\"Takes Y_true: Actual values of the data and y_pred : model predicted values and puts them into a data frame\"\"\"\n",
    "  import pandas as pd\n",
    "  #puts the arguments into a dictionary\n",
    "  values = {'Y_true': y_true.values , 'Y_pred': y_pred}\n",
    "\n",
    "  #uses the values dictionary to create a dataframe and passes the length of the y_true as index\n",
    "  df = pd.DataFrame(values, index =[x for x in range(len(y_true))])\n",
    "\n",
    "  #returns dataframe\n",
    "  return df"
   ]
  },
  {
   "cell_type": "code",
   "execution_count": 505,
   "id": "4052af6d",
   "metadata": {},
   "outputs": [],
   "source": [
    "Xgboost_train_values = actual_vs_predicted_dataframe(y_train, model.fit(X_train,y_train.round(3)).predict(X_train)).round(3)"
   ]
  },
  {
   "cell_type": "code",
   "execution_count": 506,
   "id": "98c107ef",
   "metadata": {},
   "outputs": [
    {
     "data": {
      "text/html": [
       "<div>\n",
       "<style scoped>\n",
       "    .dataframe tbody tr th:only-of-type {\n",
       "        vertical-align: middle;\n",
       "    }\n",
       "\n",
       "    .dataframe tbody tr th {\n",
       "        vertical-align: top;\n",
       "    }\n",
       "\n",
       "    .dataframe thead th {\n",
       "        text-align: right;\n",
       "    }\n",
       "</style>\n",
       "<table border=\"1\" class=\"dataframe\">\n",
       "  <thead>\n",
       "    <tr style=\"text-align: right;\">\n",
       "      <th></th>\n",
       "      <th>Y_true</th>\n",
       "      <th>Y_pred</th>\n",
       "    </tr>\n",
       "  </thead>\n",
       "  <tbody>\n",
       "    <tr>\n",
       "      <th>0</th>\n",
       "      <td>6072.321</td>\n",
       "      <td>6063.912109</td>\n",
       "    </tr>\n",
       "    <tr>\n",
       "      <th>1</th>\n",
       "      <td>5867.319</td>\n",
       "      <td>5687.166016</td>\n",
       "    </tr>\n",
       "    <tr>\n",
       "      <th>2</th>\n",
       "      <td>7383.593</td>\n",
       "      <td>7314.824219</td>\n",
       "    </tr>\n",
       "    <tr>\n",
       "      <th>3</th>\n",
       "      <td>5069.912</td>\n",
       "      <td>5123.664062</td>\n",
       "    </tr>\n",
       "    <tr>\n",
       "      <th>4</th>\n",
       "      <td>2762.859</td>\n",
       "      <td>2715.813965</td>\n",
       "    </tr>\n",
       "    <tr>\n",
       "      <th>...</th>\n",
       "      <td>...</td>\n",
       "      <td>...</td>\n",
       "    </tr>\n",
       "    <tr>\n",
       "      <th>1847</th>\n",
       "      <td>3900.203</td>\n",
       "      <td>3878.041992</td>\n",
       "    </tr>\n",
       "    <tr>\n",
       "      <th>1848</th>\n",
       "      <td>3249.966</td>\n",
       "      <td>3221.791992</td>\n",
       "    </tr>\n",
       "    <tr>\n",
       "      <th>1849</th>\n",
       "      <td>7148.852</td>\n",
       "      <td>7153.456055</td>\n",
       "    </tr>\n",
       "    <tr>\n",
       "      <th>1850</th>\n",
       "      <td>7619.839</td>\n",
       "      <td>7509.849121</td>\n",
       "    </tr>\n",
       "    <tr>\n",
       "      <th>1851</th>\n",
       "      <td>6096.861</td>\n",
       "      <td>6077.591797</td>\n",
       "    </tr>\n",
       "  </tbody>\n",
       "</table>\n",
       "<p>1852 rows × 2 columns</p>\n",
       "</div>"
      ],
      "text/plain": [
       "        Y_true       Y_pred\n",
       "0     6072.321  6063.912109\n",
       "1     5867.319  5687.166016\n",
       "2     7383.593  7314.824219\n",
       "3     5069.912  5123.664062\n",
       "4     2762.859  2715.813965\n",
       "...        ...          ...\n",
       "1847  3900.203  3878.041992\n",
       "1848  3249.966  3221.791992\n",
       "1849  7148.852  7153.456055\n",
       "1850  7619.839  7509.849121\n",
       "1851  6096.861  6077.591797\n",
       "\n",
       "[1852 rows x 2 columns]"
      ]
     },
     "execution_count": 506,
     "metadata": {},
     "output_type": "execute_result"
    }
   ],
   "source": [
    "#looking at the train values and seeing how okay it is doing.\n",
    "Xgboost_train_values"
   ]
  },
  {
   "cell_type": "code",
   "execution_count": 532,
   "id": "267370a5",
   "metadata": {},
   "outputs": [],
   "source": [
    "Xgboost_test_values = actual_vs_predicted_dataframe(y_test, model.fit(X_train,y_train).predict(X_test))"
   ]
  },
  {
   "cell_type": "code",
   "execution_count": 533,
   "id": "0ba38aae",
   "metadata": {},
   "outputs": [
    {
     "data": {
      "text/html": [
       "<div>\n",
       "<style scoped>\n",
       "    .dataframe tbody tr th:only-of-type {\n",
       "        vertical-align: middle;\n",
       "    }\n",
       "\n",
       "    .dataframe tbody tr th {\n",
       "        vertical-align: top;\n",
       "    }\n",
       "\n",
       "    .dataframe thead th {\n",
       "        text-align: right;\n",
       "    }\n",
       "</style>\n",
       "<table border=\"1\" class=\"dataframe\">\n",
       "  <thead>\n",
       "    <tr style=\"text-align: right;\">\n",
       "      <th></th>\n",
       "      <th>Y_true</th>\n",
       "      <th>Y_pred</th>\n",
       "    </tr>\n",
       "  </thead>\n",
       "  <tbody>\n",
       "    <tr>\n",
       "      <th>0</th>\n",
       "      <td>11386.519</td>\n",
       "      <td>11364.787109</td>\n",
       "    </tr>\n",
       "    <tr>\n",
       "      <th>1</th>\n",
       "      <td>11370.463</td>\n",
       "      <td>11367.207031</td>\n",
       "    </tr>\n",
       "    <tr>\n",
       "      <th>2</th>\n",
       "      <td>11369.208</td>\n",
       "      <td>11367.207031</td>\n",
       "    </tr>\n",
       "    <tr>\n",
       "      <th>3</th>\n",
       "      <td>11362.234</td>\n",
       "      <td>11352.417969</td>\n",
       "    </tr>\n",
       "    <tr>\n",
       "      <th>4</th>\n",
       "      <td>11357.741</td>\n",
       "      <td>11360.998047</td>\n",
       "    </tr>\n",
       "    <tr>\n",
       "      <th>...</th>\n",
       "      <td>...</td>\n",
       "      <td>...</td>\n",
       "    </tr>\n",
       "    <tr>\n",
       "      <th>865</th>\n",
       "      <td>7074.763</td>\n",
       "      <td>7472.838379</td>\n",
       "    </tr>\n",
       "    <tr>\n",
       "      <th>866</th>\n",
       "      <td>8300.325</td>\n",
       "      <td>8216.065430</td>\n",
       "    </tr>\n",
       "    <tr>\n",
       "      <th>867</th>\n",
       "      <td>8887.807</td>\n",
       "      <td>8723.491211</td>\n",
       "    </tr>\n",
       "    <tr>\n",
       "      <th>868</th>\n",
       "      <td>9121.223</td>\n",
       "      <td>9124.292969</td>\n",
       "    </tr>\n",
       "    <tr>\n",
       "      <th>869</th>\n",
       "      <td>9212.369</td>\n",
       "      <td>9149.910156</td>\n",
       "    </tr>\n",
       "  </tbody>\n",
       "</table>\n",
       "<p>870 rows × 2 columns</p>\n",
       "</div>"
      ],
      "text/plain": [
       "        Y_true        Y_pred\n",
       "0    11386.519  11364.787109\n",
       "1    11370.463  11367.207031\n",
       "2    11369.208  11367.207031\n",
       "3    11362.234  11352.417969\n",
       "4    11357.741  11360.998047\n",
       "..         ...           ...\n",
       "865   7074.763   7472.838379\n",
       "866   8300.325   8216.065430\n",
       "867   8887.807   8723.491211\n",
       "868   9121.223   9124.292969\n",
       "869   9212.369   9149.910156\n",
       "\n",
       "[870 rows x 2 columns]"
      ]
     },
     "execution_count": 533,
     "metadata": {},
     "output_type": "execute_result"
    }
   ],
   "source": [
    "# checking X_test values\n",
    "Xgboost_test_values"
   ]
  },
  {
   "cell_type": "code",
   "execution_count": 507,
   "id": "ff21764b",
   "metadata": {},
   "outputs": [
    {
     "name": "stdout",
     "output_type": "stream",
     "text": [
      "Fitting 5 folds for each of 50 candidates, totalling 250 fits\n",
      "Best parameters found: {'subsample': 0.7, 'n_estimators': 200, 'min_child_weight': 3, 'max_depth': 7, 'learning_rate': 0.1, 'gamma': 0.2, 'colsample_bytree': 0.7}\n",
      "Best R^2 score found: 0.981087874622111\n"
     ]
    }
   ],
   "source": [
    "#using random search.\n",
    "from sklearn.model_selection import RandomizedSearchCV\n",
    "from xgboost import XGBRegressor\n",
    "\n",
    "# Define the parameter grid\n",
    "param_grid = {\n",
    "    'n_estimators': [100, 200, 300],\n",
    "    'max_depth': [3, 5, 7],\n",
    "    'learning_rate': [0.01, 0.05, 0.1],\n",
    "    'min_child_weight': [1, 3, 5],\n",
    "    'subsample': [0.5, 0.7, 0.9],\n",
    "    'colsample_bytree': [0.5, 0.7, 0.9],\n",
    "    'gamma': [0, 0.1, 0.2]\n",
    "}\n",
    "\n",
    "# Create the XGBoost regressor\n",
    "xgb = XGBRegressor()\n",
    "\n",
    "# Random search\n",
    "random_search = RandomizedSearchCV(\n",
    "    estimator=xgb,\n",
    "    param_distributions=param_grid,\n",
    "    n_iter=50,  # Number of parameter settings that are sampled\n",
    "    scoring='r2',  # Scoring metric\n",
    "    cv=5,  # Number of folds in cross-validation\n",
    "    verbose=1,\n",
    "    random_state=42,\n",
    "    n_jobs=-1  # Use all available cores\n",
    ")\n",
    "\n",
    "# Fit the random search model\n",
    "random_search.fit(X_train, y_train)\n",
    "\n",
    "# Get the best parameters and best score\n",
    "best_params = random_search.best_params_\n",
    "best_score = random_search.best_score_\n",
    "\n",
    "print(\"Best parameters found:\", best_params)\n",
    "print(\"Best R^2 score found:\", best_score)"
   ]
  },
  {
   "cell_type": "code",
   "execution_count": 508,
   "id": "d33c6613",
   "metadata": {},
   "outputs": [],
   "source": [
    "# checking the params found with cross validation 5-fold cross validation\n",
    "#  random_search.best_score_ is a dictionary of the best params found.\n",
    "from sklearn.model_selection import cross_val_score\n",
    "tuned_model = XGBRegressor(subsample = random_search.best_params_['subsample'], n_estimators = random_search.best_params_['n_estimators'],\n",
    "                          min_child_weight= random_search.best_params_['min_child_weight'], max_depth = random_search.best_params_['max_depth'],\n",
    "                          learning_rate = random_search.best_params_['learning_rate'], gamma = random_search.best_params_['gamma'],\n",
    "                          colsample_bytree = random_search.best_params_['colsample_bytree'])"
   ]
  },
  {
   "cell_type": "code",
   "execution_count": 509,
   "id": "dd48d7b9",
   "metadata": {},
   "outputs": [
    {
     "data": {
      "text/plain": [
       "array([0.98953481, 0.9824875 , 0.95585544, 0.98793213, 0.9896295 ])"
      ]
     },
     "execution_count": 509,
     "metadata": {},
     "output_type": "execute_result"
    }
   ],
   "source": [
    "scoring = cross_val_score(tuned_model, X_train, y_train, cv = 5)\n",
    "#scores from cross validation\n",
    "scoring"
   ]
  },
  {
   "cell_type": "code",
   "execution_count": 510,
   "id": "b5969212",
   "metadata": {},
   "outputs": [
    {
     "data": {
      "text/plain": [
       "(0.9980802793576878,\n",
       " 0.9866670197724328,\n",
       " 17772.914985633055,\n",
       " 132356.93689712381,\n",
       " 91.47697899652402,\n",
       " 196.21908126801424)"
      ]
     },
     "execution_count": 510,
     "metadata": {},
     "output_type": "execute_result"
    }
   ],
   "source": [
    "training(tuned_model.fit(X_train, y_train),X_train,y_train, X_val, y_val)"
   ]
  },
  {
   "cell_type": "code",
   "execution_count": 537,
   "id": "26457927",
   "metadata": {},
   "outputs": [
    {
     "data": {
      "image/png": "[encoded data removed]",
      "text/plain": [
       "<Figure size 432x288 with 1 Axes>"
      ]
     },
     "metadata": {
      "needs_background": "light"
     },
     "output_type": "display_data"
    }
   ],
   "source": [
    "plt.title(\"Showing the learning rate in the visual sense.\")\n",
    "plt.scatter(X_train[:,0],y_train, c = 'red', label = 'actual')\n",
    "plt.scatter(X_train[:,0], tuned_model.fit(X_train,y_train).predict(X_train), c='green', label = 'predicted')\n",
    "plt.xlabel(\"X\")\n",
    "plt.ylabel(\"UUCS\")\n",
    "plt.legend()\n",
    "plt.show()"
   ]
  },
  {
   "cell_type": "code",
   "execution_count": 538,
   "id": "3d927f2e",
   "metadata": {},
   "outputs": [
    {
     "data": {
      "image/png": "[encoded data removed]",
      "text/plain": [
       "<Figure size 432x288 with 1 Axes>"
      ]
     },
     "metadata": {
      "needs_background": "light"
     },
     "output_type": "display_data"
    }
   ],
   "source": [
    "plt.title(\"Showing the learning rate in the visual sense.\")\n",
    "plt.scatter(X_val[:,0],tuned_model.fit(X_train, y_train).predict(X_val), label= \"pred_val\" )\n",
    "plt.scatter(X_val[:,0],y_val, label = 'actual' )\n",
    "plt.xlabel(\"X\")\n",
    "plt.ylabel(\"UUCS\")\n",
    "plt.legend()\n",
    "plt.show()"
   ]
  },
  {
   "cell_type": "code",
   "execution_count": 536,
   "id": "9b67d4cf",
   "metadata": {},
   "outputs": [
    {
     "data": {
      "image/png": "[encoded data removed]",
      "text/plain": [
       "<Figure size 432x288 with 1 Axes>"
      ]
     },
     "metadata": {
      "needs_background": "light"
     },
     "output_type": "display_data"
    }
   ],
   "source": [
    "plt.title(\"Showing the learning rate in the visual sense.\")\n",
    "plt.scatter(X_test[:,0],y_test, c = 'red', label = 'actual')\n",
    "plt.scatter(X_test[:,0], tuned_model.fit(X_train,y_train).predict(X_test), c='green', label = 'pred_val')\n",
    "plt.xlabel(\"X\")\n",
    "plt.ylabel(\"UUCS\")\n",
    "plt.legend()\n",
    "plt.show()"
   ]
  },
  {
   "cell_type": "code",
   "execution_count": 513,
   "id": "957be4c9",
   "metadata": {},
   "outputs": [
    {
     "name": "stdout",
     "output_type": "stream",
     "text": [
      "Requirement already satisfied: pyswarms in c:\\users\\paa kwasi\\anaconda3\\lib\\site-packages (1.3.0)\n",
      "Requirement already satisfied: scipy in c:\\users\\paa kwasi\\anaconda3\\lib\\site-packages (from pyswarms) (1.7.3)\n",
      "Requirement already satisfied: future in c:\\users\\paa kwasi\\anaconda3\\lib\\site-packages (from pyswarms) (0.18.2)\n",
      "Requirement already satisfied: pyyaml in c:\\users\\paa kwasi\\anaconda3\\lib\\site-packages (from pyswarms) (6.0)\n",
      "Requirement already satisfied: attrs in c:\\users\\paa kwasi\\anaconda3\\lib\\site-packages (from pyswarms) (21.4.0)\n",
      "Requirement already satisfied: numpy in c:\\users\\paa kwasi\\anaconda3\\lib\\site-packages (from pyswarms) (1.21.5)\n",
      "Requirement already satisfied: matplotlib>=1.3.1 in c:\\users\\paa kwasi\\anaconda3\\lib\\site-packages (from pyswarms) (3.5.1)\n",
      "Requirement already satisfied: tqdm in c:\\users\\paa kwasi\\anaconda3\\lib\\site-packages (from pyswarms) (4.64.0)\n",
      "Requirement already satisfied: fonttools>=4.22.0 in c:\\users\\paa kwasi\\anaconda3\\lib\\site-packages (from matplotlib>=1.3.1->pyswarms) (4.25.0)\n",
      "Requirement already satisfied: packaging>=20.0 in c:\\users\\paa kwasi\\anaconda3\\lib\\site-packages (from matplotlib>=1.3.1->pyswarms) (21.3)\n",
      "Requirement already satisfied: pillow>=6.2.0 in c:\\users\\paa kwasi\\anaconda3\\lib\\site-packages (from matplotlib>=1.3.1->pyswarms) (9.0.1)\n",
      "Requirement already satisfied: cycler>=0.10 in c:\\users\\paa kwasi\\anaconda3\\lib\\site-packages (from matplotlib>=1.3.1->pyswarms) (0.11.0)\n",
      "Requirement already satisfied: python-dateutil>=2.7 in c:\\users\\paa kwasi\\anaconda3\\lib\\site-packages (from matplotlib>=1.3.1->pyswarms) (2.8.2)\n",
      "Requirement already satisfied: pyparsing>=2.2.1 in c:\\users\\paa kwasi\\anaconda3\\lib\\site-packages (from matplotlib>=1.3.1->pyswarms) (3.0.4)\n",
      "Requirement already satisfied: kiwisolver>=1.0.1 in c:\\users\\paa kwasi\\anaconda3\\lib\\site-packages (from matplotlib>=1.3.1->pyswarms) (1.3.2)\n",
      "Requirement already satisfied: six>=1.5 in c:\\users\\paa kwasi\\anaconda3\\lib\\site-packages (from python-dateutil>=2.7->matplotlib>=1.3.1->pyswarms) (1.16.0)\n",
      "Requirement already satisfied: colorama in c:\\users\\paa kwasi\\anaconda3\\lib\\site-packages (from tqdm->pyswarms) (0.4.4)\n"
     ]
    }
   ],
   "source": [
    "!pip install pyswarms"
   ]
  },
  {
   "cell_type": "code",
   "execution_count": 514,
   "id": "14434219",
   "metadata": {},
   "outputs": [],
   "source": [
    "import pyswarms as ps\n",
    "from pyswarm import pso"
   ]
  },
  {
   "cell_type": "code",
   "execution_count": 515,
   "id": "3797fb87",
   "metadata": {},
   "outputs": [
    {
     "name": "stdout",
     "output_type": "stream",
     "text": [
      "Stopping search: maximum iterations reached --> 50\n",
      "Final Mean Squared Error: 47470.689354134236\n"
     ]
    }
   ],
   "source": [
    "from pyswarm import pso\n",
    "\n",
    "# Define the objective function\n",
    "def objective_function(params, X_train, y_train, X_val, y_val):\n",
    "    learning_rate, max_depth, min_child_weight, subsample = params\n",
    "    \n",
    "    # Create an XGBoost regressor with the specified hyperparameters\n",
    "    model = XGBRegressor(\n",
    "        objective='reg:squarederror',\n",
    "        learning_rate=learning_rate,\n",
    "        max_depth=int(max_depth),\n",
    "        min_child_weight=min_child_weight,\n",
    "        subsample=subsample,\n",
    "        random_state=42\n",
    "    )\n",
    "    \n",
    "    # Train the model\n",
    "    model.fit(X_train, y_train)\n",
    "    \n",
    "    # Predict on the validation set\n",
    "    y_pred = model.predict(X_val)\n",
    "    \n",
    "    # Compute the mean squared error\n",
    "    mse = mean_squared_error(y_val, y_pred)\n",
    "    \n",
    "    # Return the mean squared error as the objective value\n",
    "    return mse\n",
    "\n",
    "# Define the bounds for each hyperparameter\n",
    "lb = [0.01, 1, 1, 0.1]  # Lower bounds for learning_rate, max_depth, min_child_weight, subsample\n",
    "ub = [0.3, 10, 10, 1]  # Upper bounds for learning_rate, max_depth, min_child_weight, subsample\n",
    "\n",
    "# Perform PSO optimization using LocalBestPSO\n",
    "best_params, _ = pso(objective_function, lb, ub, args=(X_train, y_train, X_val, y_val), swarmsize=10, maxiter=50)\n",
    "\n",
    "# Extract the best hyperparameters\n",
    "learning_rate, max_depth, min_child_weight, subsample = best_params\n",
    "\n",
    "# Create the final XGBoost regressor with the best hyperparameters\n",
    "final_model = XGBRegressor(\n",
    "    objective='reg:squarederror',\n",
    "    learning_rate=learning_rate,\n",
    "    max_depth=int(max_depth),\n",
    "    min_child_weight=min_child_weight,\n",
    "    subsample=subsample,\n",
    "    random_state=42\n",
    ")\n",
    "\n",
    "# Train the final model\n",
    "final_model.fit(X_train, y_train)\n",
    "\n",
    "# Evaluate the final model\n",
    "mse = mean_squared_error(y_test, final_model.predict(X_test))\n",
    "print(\"Final Mean Squared Error:\", mse)\n",
    "# Extract the best hyperparameters\n",
    "# learning_rate, max_depth, min_child_weight, subsample = best_params\n",
    "\n",
    "# Now you have the best hyperparameters in learning_rate, max_depth, etc.\n"
   ]
  },
  {
   "cell_type": "code",
   "execution_count": null,
   "id": "a2ad4a9f",
   "metadata": {},
   "outputs": [],
   "source": [
    "#Pso model doing better than random search"
   ]
  },
  {
   "cell_type": "code",
   "execution_count": 518,
   "id": "2a13497e",
   "metadata": {},
   "outputs": [
    {
     "name": "stdout",
     "output_type": "stream",
     "text": [
      "0.9999393042768367\n",
      "0.9949314062708519\n"
     ]
    }
   ],
   "source": [
    "print(final_model.score(X_train,y_train))\n",
    "print(final_model.score(X_test,y_test))"
   ]
  },
  {
   "cell_type": "code",
   "execution_count": 402,
   "id": "3b2020f2",
   "metadata": {},
   "outputs": [
    {
     "data": {
      "text/plain": [
       "XGBRegressor(base_score=0.5, booster='gbtree', colsample_bylevel=1,\n",
       "             colsample_bynode=1, colsample_bytree=0.7, enable_categorical=False,\n",
       "             gamma=0.2, gpu_id=-1, importance_type=None,\n",
       "             interaction_constraints='', learning_rate=0.1, max_delta_step=0,\n",
       "             max_depth=7, min_child_weight=3, missing=nan,\n",
       "             monotone_constraints='()', n_estimators=200, n_jobs=4,\n",
       "             num_parallel_tree=1, predictor='auto', random_state=0, reg_alpha=0,\n",
       "             reg_lambda=1, scale_pos_weight=1, subsample=0.7,\n",
       "             tree_method='exact', validate_parameters=1, verbosity=None)"
      ]
     },
     "execution_count": 402,
     "metadata": {},
     "output_type": "execute_result"
    }
   ],
   "source": [
    "tuned_model.fit(X_train, y_train)"
   ]
  },
  {
   "cell_type": "code",
   "execution_count": 403,
   "id": "6dc895b2",
   "metadata": {},
   "outputs": [
    {
     "data": {
      "text/plain": [
       "0.99064750720989"
      ]
     },
     "execution_count": 403,
     "metadata": {},
     "output_type": "execute_result"
    }
   ],
   "source": [
    "tuned_model.score(X_test,y_test)"
   ]
  },
  {
   "cell_type": "code",
   "execution_count": 404,
   "id": "7abc2348",
   "metadata": {},
   "outputs": [
    {
     "data": {
      "text/plain": [
       "XGBRegressor(base_score=0.5, booster='gbtree', colsample_bylevel=1,\n",
       "             colsample_bynode=1, colsample_bytree=1, enable_categorical=False,\n",
       "             gamma=0, gpu_id=-1, importance_type=None,\n",
       "             interaction_constraints='', learning_rate=0.300000012,\n",
       "             max_delta_step=0, max_depth=6, min_child_weight=1, missing=nan,\n",
       "             monotone_constraints='()', n_estimators=100, n_jobs=4,\n",
       "             num_parallel_tree=1, predictor='auto', random_state=0, reg_alpha=0,\n",
       "             reg_lambda=1, scale_pos_weight=1, subsample=1, tree_method='exact',\n",
       "             validate_parameters=1, verbosity=None)"
      ]
     },
     "execution_count": 404,
     "metadata": {},
     "output_type": "execute_result"
    }
   ],
   "source": [
    "model.fit(X_train,y_train)"
   ]
  },
  {
   "cell_type": "code",
   "execution_count": 405,
   "id": "ef23e349",
   "metadata": {},
   "outputs": [
    {
     "data": {
      "text/plain": [
       "0.9918189056838786"
      ]
     },
     "execution_count": 405,
     "metadata": {},
     "output_type": "execute_result"
    }
   ],
   "source": [
    "model.score(X_test,y_test)"
   ]
  },
  {
   "cell_type": "code",
   "execution_count": 407,
   "id": "cada1327",
   "metadata": {},
   "outputs": [
    {
     "data": {
      "text/plain": [
       "(0.9996384466986613,\n",
       " 0.9918189056838786,\n",
       " 3347.2870717937913,\n",
       " 76621.28937738763,\n",
       " 37.85104221472936,\n",
       " 145.81899465135598)"
      ]
     },
     "execution_count": 407,
     "metadata": {},
     "output_type": "execute_result"
    }
   ],
   "source": [
    "training(model.fit(X_train, y_train), X_train, y_train, X_test, y_test)"
   ]
  },
  {
   "cell_type": "code",
   "execution_count": 408,
   "id": "ba0e65da",
   "metadata": {},
   "outputs": [
    {
     "data": {
      "text/plain": [
       "(0.9980802793576878,\n",
       " 0.99064750720989,\n",
       " 17772.914985633055,\n",
       " 87592.2008451659,\n",
       " 91.47697899652402,\n",
       " 197.02367583961927)"
      ]
     },
     "execution_count": 408,
     "metadata": {},
     "output_type": "execute_result"
    }
   ],
   "source": [
    "training(tuned_model.fit(X_train, y_train), X_train, y_train, X_test, y_test)"
   ]
  },
  {
   "cell_type": "code",
   "execution_count": 539,
   "id": "b566ce2c",
   "metadata": {},
   "outputs": [
    {
     "data": {
      "text/plain": [
       "(0.16504306428677962,\n",
       " 0.14408739635891954,\n",
       " 7730092.758299899,\n",
       " 8016180.323957996,\n",
       " 2142.1273322842226,\n",
       " 2202.3073593216577)"
      ]
     },
     "execution_count": 539,
     "metadata": {},
     "output_type": "execute_result"
    }
   ],
   "source": []
  },
  {
   "cell_type": "markdown",
   "id": "3327ef7d",
   "metadata": {},
   "source": [
    "# SVM"
   ]
  },
  {
   "cell_type": "code",
   "execution_count": 519,
   "id": "a74afa39",
   "metadata": {},
   "outputs": [
    {
     "data": {
      "text/plain": [
       "SVR()"
      ]
     },
     "execution_count": 519,
     "metadata": {},
     "output_type": "execute_result"
    }
   ],
   "source": [
    "from sklearn.svm import SVR\n",
    "svm = SVR(kernel = 'rbf')\n",
    "svm.fit(X_train,y_train)"
   ]
  },
  {
   "cell_type": "code",
   "execution_count": 520,
   "id": "30de5830",
   "metadata": {},
   "outputs": [
    {
     "data": {
      "text/plain": [
       "(-0.05918877252450816,\n",
       " -0.07689052381072914,\n",
       " 9806047.605521578,\n",
       " 10690327.944117477,\n",
       " 2409.9358187495122,\n",
       " 2556.336429684761)"
      ]
     },
     "execution_count": 520,
     "metadata": {},
     "output_type": "execute_result"
    }
   ],
   "source": [
    "training(svm.fit(X_train, y_train), X_train, y_train, X_val, y_val)"
   ]
  },
  {
   "cell_type": "code",
   "execution_count": 521,
   "id": "03c6bf8f",
   "metadata": {},
   "outputs": [
    {
     "data": {
      "text/plain": [
       "(-0.05918877252450816,\n",
       " -0.07725172332761776,\n",
       " 9806047.605521578,\n",
       " 10089165.683217222,\n",
       " 2409.9358187495122,\n",
       " 2449.3915688839934)"
      ]
     },
     "execution_count": 521,
     "metadata": {},
     "output_type": "execute_result"
    }
   ],
   "source": [
    "training(svm.fit(X_train, y_train), X_train, y_train, X_test, y_test)"
   ]
  },
  {
   "cell_type": "code",
   "execution_count": 522,
   "id": "e77a780a",
   "metadata": {},
   "outputs": [
    {
     "name": "stdout",
     "output_type": "stream",
     "text": [
      "Fitting 5 folds for each of 50 candidates, totalling 250 fits\n",
      "[CV] END .......C=0.1, epsilon=0.001, gamma=0.01, kernel=rbf; total time=   0.1s\n",
      "[CV] END .......C=0.1, epsilon=0.001, gamma=0.01, kernel=rbf; total time=   0.1s\n",
      "[CV] END .......C=0.1, epsilon=0.001, gamma=0.01, kernel=rbf; total time=   0.1s\n",
      "[CV] END .......C=0.1, epsilon=0.001, gamma=0.01, kernel=rbf; total time=   0.1s\n",
      "[CV] END .......C=0.1, epsilon=0.001, gamma=0.01, kernel=rbf; total time=   0.1s\n",
      "[CV] END ........C=1, epsilon=0.01, gamma=0.001, kernel=poly; total time=   0.0s\n",
      "[CV] END ........C=1, epsilon=0.01, gamma=0.001, kernel=poly; total time=   0.0s\n",
      "[CV] END ........C=1, epsilon=0.01, gamma=0.001, kernel=poly; total time=   0.0s\n",
      "[CV] END ........C=1, epsilon=0.01, gamma=0.001, kernel=poly; total time=   0.0s\n",
      "[CV] END ........C=1, epsilon=0.01, gamma=0.001, kernel=poly; total time=   0.0s\n",
      "[CV] END ......C=0.1, epsilon=0.01, gamma=0.1, kernel=linear; total time=   0.0s\n",
      "[CV] END ......C=0.1, epsilon=0.01, gamma=0.1, kernel=linear; total time=   0.0s\n",
      "[CV] END ......C=0.1, epsilon=0.01, gamma=0.1, kernel=linear; total time=   0.0s\n",
      "[CV] END ......C=0.1, epsilon=0.01, gamma=0.1, kernel=linear; total time=   0.0s\n",
      "[CV] END ......C=0.1, epsilon=0.01, gamma=0.1, kernel=linear; total time=   0.0s\n",
      "[CV] END .......C=1, epsilon=0.01, gamma=0.01, kernel=linear; total time=   0.0s\n",
      "[CV] END .......C=1, epsilon=0.01, gamma=0.01, kernel=linear; total time=   0.0s\n",
      "[CV] END .......C=1, epsilon=0.01, gamma=0.01, kernel=linear; total time=   0.0s\n",
      "[CV] END .......C=1, epsilon=0.01, gamma=0.01, kernel=linear; total time=   0.0s\n",
      "[CV] END .......C=1, epsilon=0.01, gamma=0.01, kernel=linear; total time=   0.0s\n",
      "[CV] END ..........C=10, epsilon=0.1, gamma=0.01, kernel=rbf; total time=   0.1s\n",
      "[CV] END ..........C=10, epsilon=0.1, gamma=0.01, kernel=rbf; total time=   0.1s\n",
      "[CV] END ..........C=10, epsilon=0.1, gamma=0.01, kernel=rbf; total time=   0.1s\n",
      "[CV] END ..........C=10, epsilon=0.1, gamma=0.01, kernel=rbf; total time=   0.1s\n",
      "[CV] END ..........C=10, epsilon=0.1, gamma=0.01, kernel=rbf; total time=   0.1s\n",
      "[CV] END .......C=0.1, epsilon=0.001, gamma=0.1, kernel=poly; total time=   0.0s\n",
      "[CV] END .......C=0.1, epsilon=0.001, gamma=0.1, kernel=poly; total time=   0.0s\n",
      "[CV] END .......C=0.1, epsilon=0.001, gamma=0.1, kernel=poly; total time=   0.0s\n",
      "[CV] END .......C=0.1, epsilon=0.001, gamma=0.1, kernel=poly; total time=   0.0s\n",
      "[CV] END .......C=0.1, epsilon=0.001, gamma=0.1, kernel=poly; total time=   0.0s\n",
      "[CV] END .........C=0.1, epsilon=0.1, gamma=0.01, kernel=rbf; total time=   0.1s\n",
      "[CV] END .........C=0.1, epsilon=0.1, gamma=0.01, kernel=rbf; total time=   0.1s\n",
      "[CV] END .........C=0.1, epsilon=0.1, gamma=0.01, kernel=rbf; total time=   0.1s\n",
      "[CV] END .........C=0.1, epsilon=0.1, gamma=0.01, kernel=rbf; total time=   0.1s\n",
      "[CV] END .........C=0.1, epsilon=0.1, gamma=0.01, kernel=rbf; total time=   0.1s\n",
      "[CV] END ......C=10, epsilon=0.1, gamma=0.001, kernel=linear; total time=   0.0s\n",
      "[CV] END ......C=10, epsilon=0.1, gamma=0.001, kernel=linear; total time=   0.0s\n",
      "[CV] END ......C=10, epsilon=0.1, gamma=0.001, kernel=linear; total time=   0.0s\n",
      "[CV] END ......C=10, epsilon=0.1, gamma=0.001, kernel=linear; total time=   0.0s\n",
      "[CV] END ......C=10, epsilon=0.1, gamma=0.001, kernel=linear; total time=   0.0s\n",
      "[CV] END .......C=0.1, epsilon=0.1, gamma=0.1, kernel=linear; total time=   0.0s\n",
      "[CV] END .......C=0.1, epsilon=0.1, gamma=0.1, kernel=linear; total time=   0.0s\n",
      "[CV] END .......C=0.1, epsilon=0.1, gamma=0.1, kernel=linear; total time=   0.0s\n",
      "[CV] END .......C=0.1, epsilon=0.1, gamma=0.1, kernel=linear; total time=   0.0s\n",
      "[CV] END .......C=0.1, epsilon=0.1, gamma=0.1, kernel=linear; total time=   0.0s\n",
      "[CV] END ......C=0.1, epsilon=0.01, gamma=0.001, kernel=poly; total time=   0.0s\n",
      "[CV] END ......C=0.1, epsilon=0.01, gamma=0.001, kernel=poly; total time=   0.0s\n",
      "[CV] END ......C=0.1, epsilon=0.01, gamma=0.001, kernel=poly; total time=   0.0s\n",
      "[CV] END ......C=0.1, epsilon=0.01, gamma=0.001, kernel=poly; total time=   0.0s\n",
      "[CV] END ......C=0.1, epsilon=0.01, gamma=0.001, kernel=poly; total time=   0.0s\n",
      "[CV] END .........C=10, epsilon=0.01, gamma=0.1, kernel=poly; total time=   0.0s\n",
      "[CV] END .........C=10, epsilon=0.01, gamma=0.1, kernel=poly; total time=   0.0s\n",
      "[CV] END .........C=10, epsilon=0.01, gamma=0.1, kernel=poly; total time=   0.0s\n",
      "[CV] END .........C=10, epsilon=0.01, gamma=0.1, kernel=poly; total time=   0.0s\n",
      "[CV] END .........C=10, epsilon=0.01, gamma=0.1, kernel=poly; total time=   0.0s\n",
      "[CV] END .........C=0.1, epsilon=0.01, gamma=0.1, kernel=rbf; total time=   0.1s\n",
      "[CV] END .........C=0.1, epsilon=0.01, gamma=0.1, kernel=rbf; total time=   0.1s\n",
      "[CV] END .........C=0.1, epsilon=0.01, gamma=0.1, kernel=rbf; total time=   0.1s\n",
      "[CV] END .........C=0.1, epsilon=0.01, gamma=0.1, kernel=rbf; total time=   0.1s\n",
      "[CV] END .........C=0.1, epsilon=0.01, gamma=0.1, kernel=rbf; total time=   0.1s\n",
      "[CV] END .....C=0.1, epsilon=0.001, gamma=0.001, kernel=poly; total time=   0.0s\n",
      "[CV] END .....C=0.1, epsilon=0.001, gamma=0.001, kernel=poly; total time=   0.0s\n",
      "[CV] END .....C=0.1, epsilon=0.001, gamma=0.001, kernel=poly; total time=   0.0s\n",
      "[CV] END .....C=0.1, epsilon=0.001, gamma=0.001, kernel=poly; total time=   0.0s\n",
      "[CV] END .....C=0.1, epsilon=0.001, gamma=0.001, kernel=poly; total time=   0.0s\n",
      "[CV] END ........C=10, epsilon=0.01, gamma=0.01, kernel=poly; total time=   0.0s\n",
      "[CV] END ........C=10, epsilon=0.01, gamma=0.01, kernel=poly; total time=   0.0s\n",
      "[CV] END ........C=10, epsilon=0.01, gamma=0.01, kernel=poly; total time=   0.0s\n",
      "[CV] END ........C=10, epsilon=0.01, gamma=0.01, kernel=poly; total time=   0.0s\n",
      "[CV] END ........C=10, epsilon=0.01, gamma=0.01, kernel=poly; total time=   0.0s\n",
      "[CV] END ......C=10, epsilon=0.001, gamma=0.001, kernel=poly; total time=   0.0s\n",
      "[CV] END ......C=10, epsilon=0.001, gamma=0.001, kernel=poly; total time=   0.0s\n",
      "[CV] END ......C=10, epsilon=0.001, gamma=0.001, kernel=poly; total time=   0.0s\n",
      "[CV] END ......C=10, epsilon=0.001, gamma=0.001, kernel=poly; total time=   0.0s\n",
      "[CV] END ......C=10, epsilon=0.001, gamma=0.001, kernel=poly; total time=   0.0s\n",
      "[CV] END .......C=10, epsilon=0.1, gamma=0.01, kernel=linear; total time=   0.0s\n",
      "[CV] END .......C=10, epsilon=0.1, gamma=0.01, kernel=linear; total time=   0.0s\n",
      "[CV] END .......C=10, epsilon=0.1, gamma=0.01, kernel=linear; total time=   0.0s\n",
      "[CV] END .......C=10, epsilon=0.1, gamma=0.01, kernel=linear; total time=   0.0s\n",
      "[CV] END .......C=10, epsilon=0.1, gamma=0.01, kernel=linear; total time=   0.0s\n",
      "[CV] END .....C=0.1, epsilon=0.001, gamma=0.1, kernel=linear; total time=   0.0s\n",
      "[CV] END .....C=0.1, epsilon=0.001, gamma=0.1, kernel=linear; total time=   0.0s\n",
      "[CV] END .....C=0.1, epsilon=0.001, gamma=0.1, kernel=linear; total time=   0.0s\n",
      "[CV] END .....C=0.1, epsilon=0.001, gamma=0.1, kernel=linear; total time=   0.0s\n",
      "[CV] END .....C=0.1, epsilon=0.001, gamma=0.1, kernel=linear; total time=   0.0s\n",
      "[CV] END ...C=0.1, epsilon=0.001, gamma=0.001, kernel=linear; total time=   0.0s\n",
      "[CV] END ...C=0.1, epsilon=0.001, gamma=0.001, kernel=linear; total time=   0.0s\n",
      "[CV] END ...C=0.1, epsilon=0.001, gamma=0.001, kernel=linear; total time=   0.0s\n",
      "[CV] END ...C=0.1, epsilon=0.001, gamma=0.001, kernel=linear; total time=   0.0s\n",
      "[CV] END ...C=0.1, epsilon=0.001, gamma=0.001, kernel=linear; total time=   0.0s\n",
      "[CV] END ........C=0.1, epsilon=0.001, gamma=0.1, kernel=rbf; total time=   0.1s\n",
      "[CV] END ........C=0.1, epsilon=0.001, gamma=0.1, kernel=rbf; total time=   0.1s\n",
      "[CV] END ........C=0.1, epsilon=0.001, gamma=0.1, kernel=rbf; total time=   0.1s\n",
      "[CV] END ........C=0.1, epsilon=0.001, gamma=0.1, kernel=rbf; total time=   0.1s\n",
      "[CV] END ........C=0.1, epsilon=0.001, gamma=0.1, kernel=rbf; total time=   0.1s\n",
      "[CV] END .........C=10, epsilon=0.1, gamma=0.001, kernel=rbf; total time=   0.1s\n",
      "[CV] END .........C=10, epsilon=0.1, gamma=0.001, kernel=rbf; total time=   0.1s\n",
      "[CV] END .........C=10, epsilon=0.1, gamma=0.001, kernel=rbf; total time=   0.1s\n",
      "[CV] END .........C=10, epsilon=0.1, gamma=0.001, kernel=rbf; total time=   0.1s\n",
      "[CV] END .........C=10, epsilon=0.1, gamma=0.001, kernel=rbf; total time=   0.1s\n",
      "[CV] END ......C=0.1, epsilon=0.001, gamma=0.01, kernel=poly; total time=   0.0s\n",
      "[CV] END ......C=0.1, epsilon=0.001, gamma=0.01, kernel=poly; total time=   0.0s\n",
      "[CV] END ......C=0.1, epsilon=0.001, gamma=0.01, kernel=poly; total time=   0.0s\n"
     ]
    },
    {
     "name": "stdout",
     "output_type": "stream",
     "text": [
      "[CV] END ......C=0.1, epsilon=0.001, gamma=0.01, kernel=poly; total time=   0.0s\n",
      "[CV] END ......C=0.1, epsilon=0.001, gamma=0.01, kernel=poly; total time=   0.0s\n",
      "[CV] END ......C=1, epsilon=0.001, gamma=0.01, kernel=linear; total time=   0.0s\n",
      "[CV] END ......C=1, epsilon=0.001, gamma=0.01, kernel=linear; total time=   0.0s\n",
      "[CV] END ......C=1, epsilon=0.001, gamma=0.01, kernel=linear; total time=   0.0s\n",
      "[CV] END ......C=1, epsilon=0.001, gamma=0.01, kernel=linear; total time=   0.0s\n",
      "[CV] END ......C=1, epsilon=0.001, gamma=0.01, kernel=linear; total time=   0.0s\n",
      "[CV] END .....C=0.1, epsilon=0.1, gamma=0.001, kernel=linear; total time=   0.0s\n",
      "[CV] END .....C=0.1, epsilon=0.1, gamma=0.001, kernel=linear; total time=   0.0s\n",
      "[CV] END .....C=0.1, epsilon=0.1, gamma=0.001, kernel=linear; total time=   0.0s\n",
      "[CV] END .....C=0.1, epsilon=0.1, gamma=0.001, kernel=linear; total time=   0.0s\n",
      "[CV] END .....C=0.1, epsilon=0.1, gamma=0.001, kernel=linear; total time=   0.0s\n",
      "[CV] END .........C=10, epsilon=0.01, gamma=0.01, kernel=rbf; total time=   0.1s\n",
      "[CV] END .........C=10, epsilon=0.01, gamma=0.01, kernel=rbf; total time=   0.1s\n",
      "[CV] END .........C=10, epsilon=0.01, gamma=0.01, kernel=rbf; total time=   0.1s\n",
      "[CV] END .........C=10, epsilon=0.01, gamma=0.01, kernel=rbf; total time=   0.1s\n",
      "[CV] END .........C=10, epsilon=0.01, gamma=0.01, kernel=rbf; total time=   0.1s\n",
      "[CV] END .......C=1, epsilon=0.001, gamma=0.1, kernel=linear; total time=   0.0s\n",
      "[CV] END .......C=1, epsilon=0.001, gamma=0.1, kernel=linear; total time=   0.0s\n",
      "[CV] END .......C=1, epsilon=0.001, gamma=0.1, kernel=linear; total time=   0.0s\n",
      "[CV] END .......C=1, epsilon=0.001, gamma=0.1, kernel=linear; total time=   0.0s\n",
      "[CV] END .......C=1, epsilon=0.001, gamma=0.1, kernel=linear; total time=   0.0s\n",
      "[CV] END ..........C=1, epsilon=0.01, gamma=0.01, kernel=rbf; total time=   0.1s\n",
      "[CV] END ..........C=1, epsilon=0.01, gamma=0.01, kernel=rbf; total time=   0.1s\n",
      "[CV] END ..........C=1, epsilon=0.01, gamma=0.01, kernel=rbf; total time=   0.1s\n",
      "[CV] END ..........C=1, epsilon=0.01, gamma=0.01, kernel=rbf; total time=   0.1s\n",
      "[CV] END ..........C=1, epsilon=0.01, gamma=0.01, kernel=rbf; total time=   0.1s\n",
      "[CV] END ..........C=0.1, epsilon=0.1, gamma=0.1, kernel=rbf; total time=   0.1s\n",
      "[CV] END ..........C=0.1, epsilon=0.1, gamma=0.1, kernel=rbf; total time=   0.1s\n",
      "[CV] END ..........C=0.1, epsilon=0.1, gamma=0.1, kernel=rbf; total time=   0.1s\n",
      "[CV] END ..........C=0.1, epsilon=0.1, gamma=0.1, kernel=rbf; total time=   0.1s\n",
      "[CV] END ..........C=0.1, epsilon=0.1, gamma=0.1, kernel=rbf; total time=   0.1s\n",
      "[CV] END .......C=10, epsilon=0.01, gamma=0.1, kernel=linear; total time=   0.0s\n",
      "[CV] END .......C=10, epsilon=0.01, gamma=0.1, kernel=linear; total time=   0.0s\n",
      "[CV] END .......C=10, epsilon=0.01, gamma=0.1, kernel=linear; total time=   0.0s\n",
      "[CV] END .......C=10, epsilon=0.01, gamma=0.1, kernel=linear; total time=   0.0s\n",
      "[CV] END .......C=10, epsilon=0.01, gamma=0.1, kernel=linear; total time=   0.0s\n",
      "[CV] END ....C=10, epsilon=0.001, gamma=0.001, kernel=linear; total time=   0.0s\n",
      "[CV] END ....C=10, epsilon=0.001, gamma=0.001, kernel=linear; total time=   0.0s\n",
      "[CV] END ....C=10, epsilon=0.001, gamma=0.001, kernel=linear; total time=   0.0s\n",
      "[CV] END ....C=10, epsilon=0.001, gamma=0.001, kernel=linear; total time=   0.0s\n",
      "[CV] END ....C=10, epsilon=0.001, gamma=0.001, kernel=linear; total time=   0.0s\n",
      "[CV] END ........C=10, epsilon=0.001, gamma=0.01, kernel=rbf; total time=   0.1s\n",
      "[CV] END ........C=10, epsilon=0.001, gamma=0.01, kernel=rbf; total time=   0.1s\n",
      "[CV] END ........C=10, epsilon=0.001, gamma=0.01, kernel=rbf; total time=   0.1s\n",
      "[CV] END ........C=10, epsilon=0.001, gamma=0.01, kernel=rbf; total time=   0.1s\n",
      "[CV] END ........C=10, epsilon=0.001, gamma=0.01, kernel=rbf; total time=   0.1s\n",
      "[CV] END .........C=1, epsilon=0.1, gamma=0.001, kernel=poly; total time=   0.0s\n",
      "[CV] END .........C=1, epsilon=0.1, gamma=0.001, kernel=poly; total time=   0.0s\n",
      "[CV] END .........C=1, epsilon=0.1, gamma=0.001, kernel=poly; total time=   0.0s\n",
      "[CV] END .........C=1, epsilon=0.1, gamma=0.001, kernel=poly; total time=   0.0s\n",
      "[CV] END .........C=1, epsilon=0.1, gamma=0.001, kernel=poly; total time=   0.1s\n",
      "[CV] END ..........C=10, epsilon=0.01, gamma=0.1, kernel=rbf; total time=   0.1s\n",
      "[CV] END ..........C=10, epsilon=0.01, gamma=0.1, kernel=rbf; total time=   0.1s\n",
      "[CV] END ..........C=10, epsilon=0.01, gamma=0.1, kernel=rbf; total time=   0.1s\n",
      "[CV] END ..........C=10, epsilon=0.01, gamma=0.1, kernel=rbf; total time=   0.1s\n",
      "[CV] END ..........C=10, epsilon=0.01, gamma=0.1, kernel=rbf; total time=   0.1s\n",
      "[CV] END ........C=0.1, epsilon=0.01, gamma=0.1, kernel=poly; total time=   0.0s\n",
      "[CV] END ........C=0.1, epsilon=0.01, gamma=0.1, kernel=poly; total time=   0.0s\n",
      "[CV] END ........C=0.1, epsilon=0.01, gamma=0.1, kernel=poly; total time=   0.0s\n",
      "[CV] END ........C=0.1, epsilon=0.01, gamma=0.1, kernel=poly; total time=   0.0s\n",
      "[CV] END ........C=0.1, epsilon=0.01, gamma=0.1, kernel=poly; total time=   0.0s\n",
      "[CV] END ......C=1, epsilon=0.01, gamma=0.001, kernel=linear; total time=   0.0s\n",
      "[CV] END ......C=1, epsilon=0.01, gamma=0.001, kernel=linear; total time=   0.0s\n",
      "[CV] END ......C=1, epsilon=0.01, gamma=0.001, kernel=linear; total time=   0.0s\n",
      "[CV] END ......C=1, epsilon=0.01, gamma=0.001, kernel=linear; total time=   0.0s\n",
      "[CV] END ......C=1, epsilon=0.01, gamma=0.001, kernel=linear; total time=   0.0s\n",
      "[CV] END ..........C=1, epsilon=0.01, gamma=0.1, kernel=poly; total time=   0.0s\n",
      "[CV] END ..........C=1, epsilon=0.01, gamma=0.1, kernel=poly; total time=   0.0s\n",
      "[CV] END ..........C=1, epsilon=0.01, gamma=0.1, kernel=poly; total time=   0.0s\n",
      "[CV] END ..........C=1, epsilon=0.01, gamma=0.1, kernel=poly; total time=   0.0s\n",
      "[CV] END ..........C=1, epsilon=0.01, gamma=0.1, kernel=poly; total time=   0.0s\n",
      "[CV] END .........C=10, epsilon=0.1, gamma=0.01, kernel=poly; total time=   0.0s\n",
      "[CV] END .........C=10, epsilon=0.1, gamma=0.01, kernel=poly; total time=   0.0s\n",
      "[CV] END .........C=10, epsilon=0.1, gamma=0.01, kernel=poly; total time=   0.0s\n",
      "[CV] END .........C=10, epsilon=0.1, gamma=0.01, kernel=poly; total time=   0.0s\n",
      "[CV] END .........C=10, epsilon=0.1, gamma=0.01, kernel=poly; total time=   0.0s\n",
      "[CV] END ........C=1, epsilon=0.001, gamma=0.01, kernel=poly; total time=   0.0s\n",
      "[CV] END ........C=1, epsilon=0.001, gamma=0.01, kernel=poly; total time=   0.0s\n",
      "[CV] END ........C=1, epsilon=0.001, gamma=0.01, kernel=poly; total time=   0.0s\n",
      "[CV] END ........C=1, epsilon=0.001, gamma=0.01, kernel=poly; total time=   0.0s\n",
      "[CV] END ........C=1, epsilon=0.001, gamma=0.01, kernel=poly; total time=   0.0s\n",
      "[CV] END .........C=1, epsilon=0.001, gamma=0.01, kernel=rbf; total time=   0.1s\n",
      "[CV] END .........C=1, epsilon=0.001, gamma=0.01, kernel=rbf; total time=   0.1s\n",
      "[CV] END .........C=1, epsilon=0.001, gamma=0.01, kernel=rbf; total time=   0.1s\n",
      "[CV] END .........C=1, epsilon=0.001, gamma=0.01, kernel=rbf; total time=   0.1s\n",
      "[CV] END .........C=1, epsilon=0.001, gamma=0.01, kernel=rbf; total time=   0.1s\n",
      "[CV] END ........C=0.1, epsilon=0.1, gamma=0.001, kernel=rbf; total time=   0.1s\n",
      "[CV] END ........C=0.1, epsilon=0.1, gamma=0.001, kernel=rbf; total time=   0.1s\n",
      "[CV] END ........C=0.1, epsilon=0.1, gamma=0.001, kernel=rbf; total time=   0.1s\n",
      "[CV] END ........C=0.1, epsilon=0.1, gamma=0.001, kernel=rbf; total time=   0.1s\n",
      "[CV] END ........C=0.1, epsilon=0.1, gamma=0.001, kernel=rbf; total time=   0.1s\n",
      "[CV] END ...........C=1, epsilon=0.1, gamma=0.1, kernel=poly; total time=   0.0s\n",
      "[CV] END ...........C=1, epsilon=0.1, gamma=0.1, kernel=poly; total time=   0.0s\n",
      "[CV] END ...........C=1, epsilon=0.1, gamma=0.1, kernel=poly; total time=   0.0s\n",
      "[CV] END ...........C=1, epsilon=0.1, gamma=0.1, kernel=poly; total time=   0.0s\n",
      "[CV] END ...........C=1, epsilon=0.1, gamma=0.1, kernel=poly; total time=   0.0s\n",
      "[CV] END ......C=0.1, epsilon=0.001, gamma=0.001, kernel=rbf; total time=   0.1s\n",
      "[CV] END ......C=0.1, epsilon=0.001, gamma=0.001, kernel=rbf; total time=   0.1s\n",
      "[CV] END ......C=0.1, epsilon=0.001, gamma=0.001, kernel=rbf; total time=   0.1s\n",
      "[CV] END ......C=0.1, epsilon=0.001, gamma=0.001, kernel=rbf; total time=   0.1s\n",
      "[CV] END ......C=0.1, epsilon=0.001, gamma=0.001, kernel=rbf; total time=   0.1s\n",
      "[CV] END .........C=1, epsilon=0.01, gamma=0.001, kernel=rbf; total time=   0.1s\n"
     ]
    },
    {
     "name": "stdout",
     "output_type": "stream",
     "text": [
      "[CV] END .........C=1, epsilon=0.01, gamma=0.001, kernel=rbf; total time=   0.1s\n",
      "[CV] END .........C=1, epsilon=0.01, gamma=0.001, kernel=rbf; total time=   0.1s\n",
      "[CV] END .........C=1, epsilon=0.01, gamma=0.001, kernel=rbf; total time=   0.1s\n",
      "[CV] END .........C=1, epsilon=0.01, gamma=0.001, kernel=rbf; total time=   0.1s\n",
      "[CV] END ........C=1, epsilon=0.01, gamma=0.1, kernel=linear; total time=   0.0s\n",
      "[CV] END ........C=1, epsilon=0.01, gamma=0.1, kernel=linear; total time=   0.0s\n",
      "[CV] END ........C=1, epsilon=0.01, gamma=0.1, kernel=linear; total time=   0.0s\n",
      "[CV] END ........C=1, epsilon=0.01, gamma=0.1, kernel=linear; total time=   0.0s\n",
      "[CV] END ........C=1, epsilon=0.01, gamma=0.1, kernel=linear; total time=   0.0s\n",
      "[CV] END ..........C=1, epsilon=0.1, gamma=0.01, kernel=poly; total time=   0.0s\n",
      "[CV] END ..........C=1, epsilon=0.1, gamma=0.01, kernel=poly; total time=   0.0s\n",
      "[CV] END ..........C=1, epsilon=0.1, gamma=0.01, kernel=poly; total time=   0.0s\n",
      "[CV] END ..........C=1, epsilon=0.1, gamma=0.01, kernel=poly; total time=   0.0s\n",
      "[CV] END ..........C=1, epsilon=0.1, gamma=0.01, kernel=poly; total time=   0.0s\n",
      "[CV] END .......C=10, epsilon=0.001, gamma=0.001, kernel=rbf; total time=   0.1s\n",
      "[CV] END .......C=10, epsilon=0.001, gamma=0.001, kernel=rbf; total time=   0.1s\n",
      "[CV] END .......C=10, epsilon=0.001, gamma=0.001, kernel=rbf; total time=   0.1s\n",
      "[CV] END .......C=10, epsilon=0.001, gamma=0.001, kernel=rbf; total time=   0.1s\n",
      "[CV] END .......C=10, epsilon=0.001, gamma=0.001, kernel=rbf; total time=   0.1s\n",
      "[CV] END ........C=10, epsilon=0.1, gamma=0.1, kernel=linear; total time=   0.0s\n",
      "[CV] END ........C=10, epsilon=0.1, gamma=0.1, kernel=linear; total time=   0.0s\n",
      "[CV] END ........C=10, epsilon=0.1, gamma=0.1, kernel=linear; total time=   0.0s\n",
      "[CV] END ........C=10, epsilon=0.1, gamma=0.1, kernel=linear; total time=   0.0s\n",
      "[CV] END ........C=10, epsilon=0.1, gamma=0.1, kernel=linear; total time=   0.0s\n",
      "[CV] END .....C=0.1, epsilon=0.01, gamma=0.01, kernel=linear; total time=   0.0s\n",
      "[CV] END .....C=0.1, epsilon=0.01, gamma=0.01, kernel=linear; total time=   0.0s\n",
      "[CV] END .....C=0.1, epsilon=0.01, gamma=0.01, kernel=linear; total time=   0.0s\n",
      "[CV] END .....C=0.1, epsilon=0.01, gamma=0.01, kernel=linear; total time=   0.0s\n",
      "[CV] END .....C=0.1, epsilon=0.01, gamma=0.01, kernel=linear; total time=   0.0s\n",
      "[CV] END .......C=0.1, epsilon=0.01, gamma=0.01, kernel=poly; total time=   0.0s\n",
      "[CV] END .......C=0.1, epsilon=0.01, gamma=0.01, kernel=poly; total time=   0.0s\n",
      "[CV] END .......C=0.1, epsilon=0.01, gamma=0.01, kernel=poly; total time=   0.0s\n",
      "[CV] END .......C=0.1, epsilon=0.01, gamma=0.01, kernel=poly; total time=   0.0s\n",
      "[CV] END .......C=0.1, epsilon=0.01, gamma=0.01, kernel=poly; total time=   0.0s\n",
      "[CV] END ......C=10, epsilon=0.001, gamma=0.1, kernel=linear; total time=   0.0s\n",
      "[CV] END ......C=10, epsilon=0.001, gamma=0.1, kernel=linear; total time=   0.0s\n",
      "[CV] END ......C=10, epsilon=0.001, gamma=0.1, kernel=linear; total time=   0.0s\n",
      "[CV] END ......C=10, epsilon=0.001, gamma=0.1, kernel=linear; total time=   0.0s\n",
      "[CV] END ......C=10, epsilon=0.001, gamma=0.1, kernel=linear; total time=   0.0s\n",
      "[CV] END .......C=1, epsilon=0.001, gamma=0.001, kernel=poly; total time=   0.0s\n",
      "[CV] END .......C=1, epsilon=0.001, gamma=0.001, kernel=poly; total time=   0.0s\n",
      "[CV] END .......C=1, epsilon=0.001, gamma=0.001, kernel=poly; total time=   0.0s\n",
      "[CV] END .......C=1, epsilon=0.001, gamma=0.001, kernel=poly; total time=   0.0s\n",
      "[CV] END .......C=1, epsilon=0.001, gamma=0.001, kernel=poly; total time=   0.0s\n",
      "Best Parameters: {'kernel': 'linear', 'gamma': 0.001, 'epsilon': 0.1, 'C': 10}\n",
      "Mean Squared Error (Test): 10637532.226623809\n"
     ]
    }
   ],
   "source": [
    "from sklearn.svm import SVR\n",
    "from sklearn.model_selection import RandomizedSearchCV\n",
    "from sklearn.metrics import mean_squared_error  # For MSE calculation\n",
    "\n",
    "# Define the parameter grid for random search\n",
    "param_grid = {\n",
    "    'C': [0.1, 1, 10],\n",
    "    'kernel': ['linear', 'rbf', 'poly'],\n",
    "    'gamma': [0.1, 0.01, 0.001],\n",
    "    'epsilon': [0.001, 0.01, 0.1]\n",
    "}\n",
    "\n",
    "# Create the SVR model\n",
    "svr = SVR()\n",
    "\n",
    "# Define the RandomizedSearchCV object\n",
    "random_search = RandomizedSearchCV(\n",
    "    estimator=svr,\n",
    "    param_distributions=param_grid,\n",
    "    n_iter=50,  # Number of random parameter sets to try\n",
    "    scoring='neg_mean_squared_error',  # Minimize MSE\n",
    "    cv=5,  # Use 5-fold cross-validation\n",
    "    verbose=2  # Print progress during search\n",
    ")\n",
    "\n",
    "# Fit the random search model\n",
    "random_search.fit(X_train, y_train)\n",
    "\n",
    "# Print the best parameters found\n",
    "print(f\"Best Parameters: {random_search.best_params_}\")\n",
    "\n",
    "# Get the best model\n",
    "best_svr = random_search.best_estimator_\n",
    "\n",
    "# Use the best model for prediction on unseen data\n",
    "y_pred = best_svr.predict(X_val)\n",
    "\n",
    "# Evaluate the model performance on test data (e.g., using MSE)\n",
    "mse = mean_squared_error(y_val, y_pred)\n",
    "print(f\"Mean Squared Error (Test): {mse}\")"
   ]
  },
  {
   "cell_type": "code",
   "execution_count": 523,
   "id": "ece43872",
   "metadata": {},
   "outputs": [],
   "source": [
    "rs_tuned_svm = SVR(C = random_search.best_params_['C'], kernel = random_search.best_params_['kernel'],\n",
    "                  gamma = random_search.best_params_['gamma'], epsilon = random_search.best_params_['epsilon'])"
   ]
  },
  {
   "cell_type": "code",
   "execution_count": 524,
   "id": "4759efd1",
   "metadata": {},
   "outputs": [
    {
     "data": {
      "text/plain": [
       "(-0.05412495162405584,\n",
       " -0.07157214553796476,\n",
       " 9759166.378960501,\n",
       " 10637532.226623809,\n",
       " 2400.6762933642535,\n",
       " 2550.6919532289867)"
      ]
     },
     "execution_count": 524,
     "metadata": {},
     "output_type": "execute_result"
    }
   ],
   "source": [
    "training(rs_tuned_svm.fit(X_train, y_train), X_train, y_train, X_val, y_val)"
   ]
  },
  {
   "cell_type": "code",
   "execution_count": 525,
   "id": "b4a0704e",
   "metadata": {},
   "outputs": [
    {
     "data": {
      "text/plain": [
       "(-0.05412495162405584,\n",
       " -0.072998323899788,\n",
       " 9759166.378960501,\n",
       " 10049329.820702454,\n",
       " 2400.6762933642535,\n",
       " 2442.0383771706797)"
      ]
     },
     "execution_count": 525,
     "metadata": {},
     "output_type": "execute_result"
    }
   ],
   "source": [
    "training(rs_tuned_svm.fit(X_train, y_train), X_train, y_train, X_test, y_test)"
   ]
  },
  {
   "cell_type": "code",
   "execution_count": 526,
   "id": "181bd88a",
   "metadata": {},
   "outputs": [
    {
     "name": "stdout",
     "output_type": "stream",
     "text": [
      "Stopping search: maximum iterations reached --> 50\n",
      "Final Mean Squared Error: 8016180.323957996\n"
     ]
    }
   ],
   "source": [
    "from sklearn.svm import SVR\n",
    "from sklearn.metrics import mean_squared_error\n",
    "from pyswarm import pso\n",
    "\n",
    "# Define the objective function\n",
    "def objective_function(params, X_train, y_train, X_val, y_val):\n",
    "    C, epsilon, gamma = params\n",
    "    \n",
    "    # Create an SVR with the specified hyperparameters\n",
    "    model = SVR(\n",
    "        kernel='rbf',\n",
    "        C=C,\n",
    "        epsilon=epsilon,\n",
    "        gamma=gamma\n",
    "    )\n",
    "    \n",
    "    # Train the model\n",
    "    model.fit(X_train, y_train)\n",
    "    \n",
    "    # Predict on the validation set\n",
    "    y_pred = model.predict(X_val)\n",
    "    \n",
    "    # Compute the mean squared error\n",
    "    mse = mean_squared_error(y_val, y_pred)\n",
    "    \n",
    "    # Return the mean squared error as the objective value\n",
    "    return mse\n",
    "\n",
    "# Define the bounds for each hyperparameter\n",
    "lb = [0.1, 0.01, 0.001]  # Lower bounds for C, epsilon, gamma\n",
    "ub = [100, 1, 1]  # Upper bounds for C, epsilon, gamma\n",
    "\n",
    "# Perform PSO optimization using the pso function\n",
    "best_params, _ = pso(objective_function, lb, ub, args=(X_train, y_train, X_val, y_val), swarmsize=10, maxiter=50)\n",
    "\n",
    "# Extract the best hyperparameters\n",
    "C, epsilon, gamma = best_params\n",
    "\n",
    "# Create the final SVR with the best hyperparameters\n",
    "final_model = SVR(\n",
    "    kernel='rbf',\n",
    "    C=C,\n",
    "    epsilon=epsilon,\n",
    "    gamma=gamma\n",
    ")\n",
    "\n",
    "# Train the final model\n",
    "final_model.fit(X_train, y_train)\n",
    "\n",
    "# Evaluate the final model\n",
    "mse = mean_squared_error(y_test, final_model.predict(X_test))\n",
    "print(\"Final Mean Squared Error:\", mse)"
   ]
  },
  {
   "cell_type": "markdown",
   "id": "844007cf",
   "metadata": {},
   "source": [
    "# SVM is not performing at all"
   ]
  },
  {
   "cell_type": "markdown",
   "id": "96bf4d48",
   "metadata": {},
   "source": [
    " Base model competing with models because of features makes the modelling simple and easily learnable hence high r2 score but base models are not exaclty reproducible in different environment so not the best choice.\n",
    " High MSE and MAE due to approximation errors on about 9 significant figures.\n",
    " PSO doing better than Random search due to the fact that it is a non-gradient based optimization algorithm.\n",
    " \n",
    " SVR not performing due to hyperplanes not having enough model complexity to calculate predicted values. Learning is erratic and kernelling methods are not helping either even with Random search and PSO"
   ]
  },
  {
   "cell_type": "code",
   "execution_count": null,
   "id": "fa1b6bb6",
   "metadata": {},
   "outputs": [],
   "source": []
  }
 ],
 "metadata": {
  "kernelspec": {
   "display_name": "Python 3 (ipykernel)",
   "language": "python",
   "name": "python3"
  },
  "language_info": {
   "codemirror_mode": {
    "name": "ipython",
    "version": 3
   },
   "file_extension": ".py",
   "mimetype": "text/x-python",
   "name": "python",
   "nbconvert_exporter": "python",
   "pygments_lexer": "ipython3",
   "version": "3.9.12"
  }
 },
 "nbformat": 4,
 "nbformat_minor": 5
}
