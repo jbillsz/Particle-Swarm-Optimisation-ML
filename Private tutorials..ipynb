{
 "cells": [
  {
   "cell_type": "code",
   "execution_count": 1,
   "id": "4a3de4f2",
   "metadata": {},
   "outputs": [],
   "source": [
    "import pandas as pd\n",
    "import matplotlib.pyplot as plt\n",
    "import numpy as np\n",
    "df=pd.read_excel('C:/Users/Paa Kwasi/Downloads/Data.xlsx')"
   ]
  },
  {
   "cell_type": "code",
   "execution_count": 2,
   "id": "d1c9d90f",
   "metadata": {},
   "outputs": [
    {
     "data": {
      "text/plain": [
       "Index(['YEAR', 'MONTH', 'GAUGE DATA ', 'SATELLITE DATA'], dtype='object')"
      ]
     },
     "execution_count": 2,
     "metadata": {},
     "output_type": "execute_result"
    }
   ],
   "source": [
    "df.columns"
   ]
  },
  {
   "cell_type": "code",
   "execution_count": null,
   "id": "13667513",
   "metadata": {},
   "outputs": [],
   "source": []
  },
  {
   "cell_type": "code",
   "execution_count": 3,
   "id": "6ce46b7c",
   "metadata": {},
   "outputs": [],
   "source": [
    "df.set_index('YEAR')\n",
    "df=df.iloc[48:72]"
   ]
  },
  {
   "cell_type": "code",
   "execution_count": 4,
   "id": "8d4cece9",
   "metadata": {},
   "outputs": [
    {
     "data": {
      "text/html": [
       "<div>\n",
       "<style scoped>\n",
       "    .dataframe tbody tr th:only-of-type {\n",
       "        vertical-align: middle;\n",
       "    }\n",
       "\n",
       "    .dataframe tbody tr th {\n",
       "        vertical-align: top;\n",
       "    }\n",
       "\n",
       "    .dataframe thead th {\n",
       "        text-align: right;\n",
       "    }\n",
       "</style>\n",
       "<table border=\"1\" class=\"dataframe\">\n",
       "  <thead>\n",
       "    <tr style=\"text-align: right;\">\n",
       "      <th></th>\n",
       "      <th>YEAR</th>\n",
       "      <th>MONTH</th>\n",
       "      <th>GAUGE DATA</th>\n",
       "      <th>SATELLITE DATA</th>\n",
       "    </tr>\n",
       "  </thead>\n",
       "  <tbody>\n",
       "    <tr>\n",
       "      <th>48</th>\n",
       "      <td>2002.0</td>\n",
       "      <td>1.0</td>\n",
       "      <td>18.787130</td>\n",
       "      <td>4.664780</td>\n",
       "    </tr>\n",
       "    <tr>\n",
       "      <th>49</th>\n",
       "      <td>2002.0</td>\n",
       "      <td>2.0</td>\n",
       "      <td>20.049074</td>\n",
       "      <td>11.846008</td>\n",
       "    </tr>\n",
       "    <tr>\n",
       "      <th>50</th>\n",
       "      <td>2002.0</td>\n",
       "      <td>3.0</td>\n",
       "      <td>74.274536</td>\n",
       "      <td>55.837749</td>\n",
       "    </tr>\n",
       "    <tr>\n",
       "      <th>51</th>\n",
       "      <td>2002.0</td>\n",
       "      <td>4.0</td>\n",
       "      <td>121.941017</td>\n",
       "      <td>129.405411</td>\n",
       "    </tr>\n",
       "    <tr>\n",
       "      <th>52</th>\n",
       "      <td>2002.0</td>\n",
       "      <td>5.0</td>\n",
       "      <td>126.695496</td>\n",
       "      <td>134.331497</td>\n",
       "    </tr>\n",
       "    <tr>\n",
       "      <th>53</th>\n",
       "      <td>2002.0</td>\n",
       "      <td>6.0</td>\n",
       "      <td>163.309052</td>\n",
       "      <td>182.033585</td>\n",
       "    </tr>\n",
       "    <tr>\n",
       "      <th>54</th>\n",
       "      <td>2002.0</td>\n",
       "      <td>7.0</td>\n",
       "      <td>186.779236</td>\n",
       "      <td>201.730667</td>\n",
       "    </tr>\n",
       "    <tr>\n",
       "      <th>55</th>\n",
       "      <td>2002.0</td>\n",
       "      <td>8.0</td>\n",
       "      <td>132.880447</td>\n",
       "      <td>146.310150</td>\n",
       "    </tr>\n",
       "    <tr>\n",
       "      <th>56</th>\n",
       "      <td>2002.0</td>\n",
       "      <td>9.0</td>\n",
       "      <td>130.729630</td>\n",
       "      <td>118.410980</td>\n",
       "    </tr>\n",
       "    <tr>\n",
       "      <th>57</th>\n",
       "      <td>2002.0</td>\n",
       "      <td>10.0</td>\n",
       "      <td>129.353577</td>\n",
       "      <td>156.385590</td>\n",
       "    </tr>\n",
       "    <tr>\n",
       "      <th>58</th>\n",
       "      <td>2002.0</td>\n",
       "      <td>11.0</td>\n",
       "      <td>42.840374</td>\n",
       "      <td>24.775557</td>\n",
       "    </tr>\n",
       "    <tr>\n",
       "      <th>59</th>\n",
       "      <td>2002.0</td>\n",
       "      <td>12.0</td>\n",
       "      <td>19.589352</td>\n",
       "      <td>2.594380</td>\n",
       "    </tr>\n",
       "    <tr>\n",
       "      <th>60</th>\n",
       "      <td>2003.0</td>\n",
       "      <td>1.0</td>\n",
       "      <td>19.863695</td>\n",
       "      <td>12.177982</td>\n",
       "    </tr>\n",
       "    <tr>\n",
       "      <th>61</th>\n",
       "      <td>2003.0</td>\n",
       "      <td>2.0</td>\n",
       "      <td>34.576176</td>\n",
       "      <td>29.439661</td>\n",
       "    </tr>\n",
       "    <tr>\n",
       "      <th>62</th>\n",
       "      <td>2003.0</td>\n",
       "      <td>3.0</td>\n",
       "      <td>50.777206</td>\n",
       "      <td>59.065304</td>\n",
       "    </tr>\n",
       "    <tr>\n",
       "      <th>63</th>\n",
       "      <td>2003.0</td>\n",
       "      <td>4.0</td>\n",
       "      <td>133.195862</td>\n",
       "      <td>126.544380</td>\n",
       "    </tr>\n",
       "    <tr>\n",
       "      <th>64</th>\n",
       "      <td>2003.0</td>\n",
       "      <td>5.0</td>\n",
       "      <td>112.215752</td>\n",
       "      <td>146.663895</td>\n",
       "    </tr>\n",
       "    <tr>\n",
       "      <th>65</th>\n",
       "      <td>2003.0</td>\n",
       "      <td>6.0</td>\n",
       "      <td>192.884293</td>\n",
       "      <td>195.923584</td>\n",
       "    </tr>\n",
       "    <tr>\n",
       "      <th>66</th>\n",
       "      <td>2003.0</td>\n",
       "      <td>7.0</td>\n",
       "      <td>86.770821</td>\n",
       "      <td>119.922157</td>\n",
       "    </tr>\n",
       "    <tr>\n",
       "      <th>67</th>\n",
       "      <td>2003.0</td>\n",
       "      <td>8.0</td>\n",
       "      <td>116.967773</td>\n",
       "      <td>155.252914</td>\n",
       "    </tr>\n",
       "    <tr>\n",
       "      <th>68</th>\n",
       "      <td>2003.0</td>\n",
       "      <td>9.0</td>\n",
       "      <td>189.753555</td>\n",
       "      <td>171.063354</td>\n",
       "    </tr>\n",
       "    <tr>\n",
       "      <th>69</th>\n",
       "      <td>2003.0</td>\n",
       "      <td>10.0</td>\n",
       "      <td>116.053078</td>\n",
       "      <td>143.129074</td>\n",
       "    </tr>\n",
       "    <tr>\n",
       "      <th>70</th>\n",
       "      <td>2003.0</td>\n",
       "      <td>11.0</td>\n",
       "      <td>61.871490</td>\n",
       "      <td>53.912384</td>\n",
       "    </tr>\n",
       "    <tr>\n",
       "      <th>71</th>\n",
       "      <td>2003.0</td>\n",
       "      <td>12.0</td>\n",
       "      <td>20.583649</td>\n",
       "      <td>11.194890</td>\n",
       "    </tr>\n",
       "  </tbody>\n",
       "</table>\n",
       "</div>"
      ],
      "text/plain": [
       "      YEAR  MONTH  GAUGE DATA   SATELLITE DATA\n",
       "48  2002.0    1.0    18.787130        4.664780\n",
       "49  2002.0    2.0    20.049074       11.846008\n",
       "50  2002.0    3.0    74.274536       55.837749\n",
       "51  2002.0    4.0   121.941017      129.405411\n",
       "52  2002.0    5.0   126.695496      134.331497\n",
       "53  2002.0    6.0   163.309052      182.033585\n",
       "54  2002.0    7.0   186.779236      201.730667\n",
       "55  2002.0    8.0   132.880447      146.310150\n",
       "56  2002.0    9.0   130.729630      118.410980\n",
       "57  2002.0   10.0   129.353577      156.385590\n",
       "58  2002.0   11.0    42.840374       24.775557\n",
       "59  2002.0   12.0    19.589352        2.594380\n",
       "60  2003.0    1.0    19.863695       12.177982\n",
       "61  2003.0    2.0    34.576176       29.439661\n",
       "62  2003.0    3.0    50.777206       59.065304\n",
       "63  2003.0    4.0   133.195862      126.544380\n",
       "64  2003.0    5.0   112.215752      146.663895\n",
       "65  2003.0    6.0   192.884293      195.923584\n",
       "66  2003.0    7.0    86.770821      119.922157\n",
       "67  2003.0    8.0   116.967773      155.252914\n",
       "68  2003.0    9.0   189.753555      171.063354\n",
       "69  2003.0   10.0   116.053078      143.129074\n",
       "70  2003.0   11.0    61.871490       53.912384\n",
       "71  2003.0   12.0    20.583649       11.194890"
      ]
     },
     "execution_count": 4,
     "metadata": {},
     "output_type": "execute_result"
    }
   ],
   "source": [
    "df"
   ]
  },
  {
   "cell_type": "code",
   "execution_count": 5,
   "id": "262bd886",
   "metadata": {},
   "outputs": [
    {
     "data": {
      "text/plain": [
       "48     18.787130\n",
       "49     20.049074\n",
       "50     74.274536\n",
       "51    121.941017\n",
       "52    126.695496\n",
       "53    163.309052\n",
       "54    186.779236\n",
       "55    132.880447\n",
       "56    130.729630\n",
       "57    129.353577\n",
       "58     42.840374\n",
       "59     19.589352\n",
       "Name: GAUGE DATA , dtype: float64"
      ]
     },
     "execution_count": 5,
     "metadata": {},
     "output_type": "execute_result"
    }
   ],
   "source": [
    "df.iloc[0:12,2]"
   ]
  },
  {
   "cell_type": "code",
   "execution_count": 6,
   "id": "27736fd7",
   "metadata": {},
   "outputs": [],
   "source": [
    "month=df.iloc[0:12,1]\n",
    "gauge=df.iloc[0:12,2]\n",
    "satellite=df.iloc[0:12,3]\n",
    "g2=df.iloc[12:,2]\n",
    "s2=df.iloc[12:,3]"
   ]
  },
  {
   "cell_type": "code",
   "execution_count": 19,
   "id": "6a29d800",
   "metadata": {},
   "outputs": [
    {
     "data": {
      "image/png": "[encoded data removed]",
      "text/plain": [
       "<Figure size 432x288 with 2 Axes>"
      ]
     },
     "metadata": {
      "needs_background": "light"
     },
     "output_type": "display_data"
    }
   ],
   "source": [
    "plt.plot(month,gauge,'-g',label='GAUGE_2002')\n",
    "plt.legend(loc=2)\n",
    "plt.xlabel('MONTHS')\n",
    "plt.ylabel('GAUGE')\n",
    "\n",
    "plt.twinx()\n",
    "plt.ylabel('SATELLITE')\n",
    "plt.plot(month,satellite,'-r',label='SATELLITE_2002')\n",
    "plt.legend()\n",
    "plt.title('GAUGE AND SATELLITE PLOT FOR 2002')\n",
    "plt.show()"
   ]
  },
  {
   "cell_type": "code",
   "execution_count": 14,
   "id": "ce816a4f",
   "metadata": {},
   "outputs": [
    {
     "data": {
      "image/png": "[encoded data removed]",
      "text/plain": [
       "<Figure size 432x288 with 2 Axes>"
      ]
     },
     "metadata": {
      "needs_background": "light"
     },
     "output_type": "display_data"
    }
   ],
   "source": [
    "plt.plot(month,g2,'-y',label='GAUGE_2003')\n",
    "plt.xlabel('MONTHS')\n",
    "plt.ylabel('GAUGE')\n",
    "plt.legend()\n",
    "plt.twinx()\n",
    "plt.ylabel('SATELLITE')\n",
    "plt.plot(month,s2,label='SATELLITE_2003')\n",
    "plt.legend()\n",
    "plt.title('GUAGE AND SATELLITE PLOT FOR 2003')\n",
    "plt.show()"
   ]
  }
 ],
 "metadata": {
  "kernelspec": {
   "display_name": "Python 3 (ipykernel)",
   "language": "python",
   "name": "python3"
  },
  "language_info": {
   "codemirror_mode": {
    "name": "ipython",
    "version": 3
   },
   "file_extension": ".py",
   "mimetype": "text/x-python",
   "name": "python",
   "nbconvert_exporter": "python",
   "pygments_lexer": "ipython3",
   "version": "3.9.12"
  }
 },
 "nbformat": 4,
 "nbformat_minor": 5
}
